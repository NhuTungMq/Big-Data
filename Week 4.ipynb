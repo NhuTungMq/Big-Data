{
 "cells": [
  {
   "cell_type": "code",
   "execution_count": 2,
   "id": "265c8ba5-20b5-4528-af91-b16d4102bad1",
   "metadata": {},
   "outputs": [
    {
     "name": "stdout",
     "output_type": "stream",
     "text": [
      "Requirement already satisfied: pymongo in d:\\python312\\lib\\site-packages (4.8.0)\n",
      "Requirement already satisfied: dnspython<3.0.0,>=1.16.0 in d:\\python312\\lib\\site-packages (from pymongo) (2.6.1)\n",
      "Note: you may need to restart the kernel to use updated packages.\n"
     ]
    }
   ],
   "source": [
    "pip install pymongo"
   ]
  },
  {
   "cell_type": "code",
   "execution_count": 3,
   "id": "3aba63ed-5a21-4cd7-95e6-3b50c8a94183",
   "metadata": {},
   "outputs": [
    {
     "name": "stdout",
     "output_type": "stream",
     "text": [
      "Requirement already satisfied: pip in d:\\python312\\lib\\site-packages (24.2)\n",
      "Note: you may need to restart the kernel to use updated packages.\n"
     ]
    }
   ],
   "source": [
    "pip install --upgrade pip"
   ]
  },
  {
   "cell_type": "code",
   "execution_count": 4,
   "id": "f7e213ea-6660-4843-b2e4-11987d887a8f",
   "metadata": {},
   "outputs": [],
   "source": [
    "import pymongo"
   ]
  },
  {
   "cell_type": "code",
   "execution_count": 5,
   "id": "8fbfe1f1-299d-401a-94c9-296b0c4932c7",
   "metadata": {},
   "outputs": [],
   "source": [
    "connection = pymongo.MongoClient(\"localhost:27017\")"
   ]
  },
  {
   "cell_type": "code",
   "execution_count": 6,
   "id": "afd2f6ce-d9fa-4ae3-b78c-b5f5d44c36d4",
   "metadata": {},
   "outputs": [],
   "source": [
    "db = connection['week_4']"
   ]
  },
  {
   "cell_type": "code",
   "execution_count": 7,
   "id": "1ec4e604-58f9-4365-986e-aabffbbc6171",
   "metadata": {},
   "outputs": [
    {
     "data": {
      "text/plain": [
       "Database(MongoClient(host=['localhost:27017'], document_class=dict, tz_aware=False, connect=True), 'list_collection_names')"
      ]
     },
     "execution_count": 7,
     "metadata": {},
     "output_type": "execute_result"
    }
   ],
   "source": [
    "connection.list_collection_names"
   ]
  },
  {
   "cell_type": "code",
   "execution_count": 8,
   "id": "58968cbc-7960-45d1-9149-f2109dd2cd44",
   "metadata": {},
   "outputs": [],
   "source": [
    "col = db['Tweets']"
   ]
  },
  {
   "cell_type": "code",
   "execution_count": 9,
   "id": "b92e89e3-815c-4288-b3fb-da236a1357bf",
   "metadata": {},
   "outputs": [
    {
     "data": {
      "text/plain": [
       "Collection(Database(MongoClient(host=['localhost:27017'], document_class=dict, tz_aware=False, connect=True), 'week_4'), 'Tweets')"
      ]
     },
     "execution_count": 9,
     "metadata": {},
     "output_type": "execute_result"
    }
   ],
   "source": [
    "col"
   ]
  },
  {
   "cell_type": "code",
   "execution_count": 10,
   "id": "e1c1bb2a-f104-43c0-9d7b-f9139da02f6a",
   "metadata": {},
   "outputs": [],
   "source": [
    "# Create new collection\n",
    "\n",
    "mydatabase = connection['mydatabase']\n",
    "new_col = mydatabase['new_col']\n",
    "\n",
    "#To save space MongoDB won't create this collection, because it have not thing in there\n"
   ]
  },
  {
   "cell_type": "code",
   "execution_count": 11,
   "id": "af3e60ff-bce8-4e9b-ae48-d9fe0db0a48c",
   "metadata": {},
   "outputs": [
    {
     "data": {
      "text/plain": [
       "InsertManyResult([ObjectId('66beaf765d2d29ac85b41cac'), ObjectId('66beaf765d2d29ac85b41cad')], acknowledged=True)"
      ]
     },
     "execution_count": 11,
     "metadata": {},
     "output_type": "execute_result"
    }
   ],
   "source": [
    "new_col.insert_many([{\"name\": \"Candy\", \"address\": \"Northway 75\"},{\"name\": \"Amy\", \"address\": \"Apple st 652\"}])"
   ]
  },
  {
   "cell_type": "code",
   "execution_count": 12,
   "id": "019e3a8a-e1df-4c56-b2a9-707027da9dd9",
   "metadata": {},
   "outputs": [],
   "source": [
    "cursor = col.find()"
   ]
  },
  {
   "cell_type": "code",
   "execution_count": 13,
   "id": "51a2ac09-130c-4fd4-ac71-1df8c2b7237f",
   "metadata": {},
   "outputs": [
    {
     "data": {
      "text/plain": [
       "{'_id': ObjectId('66b55f62849d352a3fd41b96'), 'tag': 'new field tag'}"
      ]
     },
     "execution_count": 13,
     "metadata": {},
     "output_type": "execute_result"
    }
   ],
   "source": [
    "cursor.next()"
   ]
  },
  {
   "cell_type": "code",
   "execution_count": 14,
   "id": "0ab71255-53a3-4838-bb6f-e7259587faf4",
   "metadata": {},
   "outputs": [
    {
     "data": {
      "text/plain": [
       "['Practical1',\n",
       " 'admin',\n",
       " 'config',\n",
       " 'local',\n",
       " 'mydatabase',\n",
       " 'new_db',\n",
       " 'week3',\n",
       " 'week_4']"
      ]
     },
     "execution_count": 14,
     "metadata": {},
     "output_type": "execute_result"
    }
   ],
   "source": [
    "connection.list_database_names()"
   ]
  },
  {
   "cell_type": "code",
   "execution_count": 15,
   "id": "4d481acc-2534-4e33-bb67-44bd3f6e6b53",
   "metadata": {},
   "outputs": [
    {
     "data": {
      "text/plain": [
       "['new_col']"
      ]
     },
     "execution_count": 15,
     "metadata": {},
     "output_type": "execute_result"
    }
   ],
   "source": [
    "mydatabase.list_collection_names()"
   ]
  },
  {
   "cell_type": "code",
   "execution_count": 16,
   "id": "ed17cdbb-5c18-4215-b42d-c521ad0c8c9c",
   "metadata": {
    "scrolled": true
   },
   "outputs": [
    {
     "name": "stdout",
     "output_type": "stream",
     "text": [
      "{'id': 224499494502, 'name': 'user 02', 'screen_name': 'Twitter User', 'location': 'AU', 'url': 'user URL', 'description': 'user description'}\n",
      "{'id': 224499494503, 'name': 'user 03', 'screen_name': 'Twitter User', 'location': 'Internet', 'url': 'user URL', 'description': 'user description'}\n",
      "{'id': 224499494504, 'name': 'user 04', 'screen_name': 'Twitter User', 'location': 'Internet', 'url': 'user URL', 'description': 'user description'}\n",
      "{'id': 224499494505, 'name': 'user 05', 'screen_name': 'Twitter User', 'location': 'Internet', 'url': 'user URL', 'description': 'user description'}\n",
      "{'id': 224499494506, 'name': 'user 06', 'screen_name': 'Twitter User', 'location': 'Internet', 'url': 'user URL', 'description': 'user description'}\n",
      "{'id': 224499494507, 'name': 'user 07', 'screen_name': 'Twitter User', 'location': 'Internet', 'url': 'user URL', 'description': 'user description'}\n",
      "{'id': 224499494508, 'name': 'user 08', 'screen_name': 'Twitter User', 'location': 'Internet', 'url': 'user URL', 'description': 'user description'}\n",
      "{'id': 224499494509, 'name': 'user 09', 'screen_name': 'Twitter User', 'location': 'Internet', 'url': 'user URL', 'description': 'user description'}\n",
      "{'id': 224499494510, 'name': 'user 10', 'screen_name': 'Twitter User', 'location': 'Internet', 'url': 'user URL', 'description': 'user description'}\n",
      "{'id': 224499494511, 'name': 'user 11', 'screen_name': 'Twitter User', 'location': 'Internet', 'url': 'user URL', 'description': 'user description'}\n",
      "{'id': 224499494512, 'name': 'user 12', 'screen_name': 'Twitter User', 'location': 'Internet', 'url': 'user URL', 'description': 'user description'}\n",
      "{'id': 224499494513, 'name': 'user 13', 'screen_name': 'Twitter User', 'location': 'Internet', 'url': 'user URL', 'description': 'user description'}\n",
      "{'id': 224499494514, 'name': 'user 14', 'screen_name': 'Twitter User', 'location': 'Internet', 'url': 'user URL', 'description': 'user description'}\n",
      "{'id': 224499494515, 'name': 'user 15', 'screen_name': 'Twitter User', 'location': 'Internet', 'url': 'user URL', 'description': 'user description'}\n",
      "{'id': 224499494516, 'name': 'user 16', 'screen_name': 'Twitter User', 'location': 'Internet', 'url': 'user URL', 'description': 'user description'}\n",
      "{'id': 224499494517, 'name': 'user 17', 'screen_name': 'Twitter User', 'location': 'Internet', 'url': 'user URL', 'description': 'user description'}\n",
      "{'id': 224499494518, 'name': 'user 18', 'screen_name': 'Twitter User', 'location': 'Internet', 'url': 'user URL', 'description': 'user description'}\n",
      "{'id': 224499494519, 'name': 'user 19', 'screen_name': 'Twitter User', 'location': 'Internet', 'url': 'user URL', 'description': 'user description'}\n",
      "{'id': 224499494520, 'name': 'user 20', 'screen_name': 'Twitter User', 'location': 'Internet', 'url': 'user URL', 'description': 'user description'}\n",
      "{'id': 224499494521, 'name': 'user 21', 'screen_name': 'Superman', 'location': 'Internet', 'url': 'user URL', 'description': 'user description'}\n",
      "{'id': 224499494522, 'name': 'user 22', 'screen_name': 'Twitter User', 'location': 'Internet', 'url': 'user URL', 'description': 'user description'}\n",
      "{'id': 224499494523, 'name': 'user 23', 'screen_name': 'Superman', 'location': 'Internet', 'url': 'user URL', 'description': 'user description'}\n",
      "{'id': 224499494524, 'name': 'user 24', 'screen_name': 'Twitter User', 'location': 'Internet', 'url': 'user URL', 'description': 'user description'}\n",
      "{'id': 224499494525, 'name': 'user 25', 'screen_name': 'Twitter User', 'location': 'Internet', 'url': 'user URL', 'description': 'user description'}\n",
      "{'id': 224499494526, 'name': 'user 26', 'screen_name': 'Twitter User', 'location': 'Internet', 'url': 'user URL', 'description': 'user description'}\n",
      "{'id': 224499494527, 'name': 'user 27', 'screen_name': 'Twitter User', 'location': 'Internet', 'url': 'user URL', 'description': 'user description'}\n",
      "{'id': 224499494528, 'name': 'user 28', 'screen_name': 'Twitter User', 'location': 'Internet', 'url': 'user URL', 'description': 'user description'}\n",
      "{'id': 224499494529, 'name': 'user 29', 'screen_name': 'Twitter User', 'location': 'Internet', 'url': 'user URL', 'description': 'user description'}\n",
      "{'id': 224499494530, 'name': 'user 30', 'screen_name': 'Twitter User', 'location': 'Internet', 'url': 'user URL', 'description': 'user description'}\n",
      "{'id': 224499494531, 'name': 'user 31', 'screen_name': 'Twitter User', 'location': 'Internet', 'url': 'user URL', 'description': 'user description'}\n",
      "{'id': 224499494532, 'name': 'user 32', 'screen_name': 'Twitter User', 'location': 'Internet', 'url': 'user URL', 'description': 'user description'}\n",
      "{'id': 224499494533, 'name': 'user 33', 'screen_name': 'Twitter User', 'location': 'Internet', 'url': 'user URL', 'description': 'user description'}\n",
      "{'id': 224499494534, 'name': 'user 34', 'screen_name': 'Twitter User', 'location': 'Internet', 'url': 'user URL', 'description': 'user description'}\n",
      "{'id': 224499494535, 'name': 'user 35', 'screen_name': 'Twitter User', 'location': 'Internet', 'url': 'user URL', 'description': 'user description'}\n",
      "{'id': 224499494536, 'name': 'user 36', 'screen_name': 'Twitter User', 'location': 'Internet', 'url': 'user URL', 'description': 'user description'}\n",
      "{'id': 224499494537, 'name': 'user 37', 'screen_name': 'Twitter User', 'location': 'Internet', 'url': 'user URL', 'description': 'user description'}\n",
      "{'id': 224499494538, 'name': 'user 38', 'screen_name': 'Twitter User', 'location': 'Internet', 'url': 'user URL', 'description': 'user description'}\n",
      "{'id': 224499494539, 'name': 'user 39', 'screen_name': 'Twitter User', 'location': 'Internet', 'url': 'user URL', 'description': 'user description'}\n",
      "{'id': 224499494540, 'name': 'user 40', 'screen_name': 'Twitter User', 'location': 'Internet', 'url': 'user URL', 'description': 'user description'}\n",
      "{'id': 224499494541, 'name': 'user 41', 'screen_name': 'Twitter User', 'location': 'Internet', 'url': 'user URL', 'description': 'user description'}\n",
      "{'id': 224499494542, 'name': 'user 42', 'screen_name': 'Twitter User', 'location': 'Internet', 'url': 'user URL', 'description': 'user description'}\n",
      "{'id': 224499494543, 'name': 'user 43', 'screen_name': 'Twitter User', 'location': 'Internet', 'url': 'user URL', 'description': 'user description'}\n",
      "{'id': 224499494544, 'name': 'user 44', 'screen_name': 'Twitter User', 'location': 'Internet', 'url': 'user URL', 'description': 'user description'}\n",
      "{'id': 224499494545, 'name': 'user 45', 'screen_name': 'Twitter User', 'location': 'Internet', 'url': 'user URL', 'description': 'user description'}\n",
      "{'id': 224499494546, 'name': 'user 46', 'screen_name': 'Twitter User', 'location': 'Internet', 'url': 'user URL', 'description': 'user description'}\n",
      "{'id': 224499494547, 'name': 'user 47', 'screen_name': 'Twitter User', 'location': 'Internet', 'url': 'user URL', 'description': 'user description'}\n",
      "{'id': 224499494548, 'name': 'user 48', 'screen_name': 'Twitter User', 'location': 'Internet', 'url': 'user URL', 'description': 'user description'}\n",
      "{'id': 224499494549, 'name': 'user 49', 'screen_name': 'Twitter User', 'location': 'Internet', 'url': 'user URL', 'description': 'user description'}\n",
      "{'id': 224499494550, 'name': 'user 50', 'screen_name': 'Twitter User', 'location': 'Internet', 'url': 'user URL', 'description': 'user description'}\n",
      "deleted user\n"
     ]
    }
   ],
   "source": [
    "for document in col.find({\"user\": {\"$exists\":{\"user\":True}}}):\n",
    "    print (document[\"user\"])"
   ]
  },
  {
   "cell_type": "code",
   "execution_count": 17,
   "id": "804505e5-2314-460f-b45d-720b126e570e",
   "metadata": {
    "scrolled": true
   },
   "outputs": [
    {
     "name": "stdout",
     "output_type": "stream",
     "text": [
      "{'id': 224499494502, 'name': 'user 02', 'screen_name': 'Twitter User', 'location': 'AU', 'url': 'user URL', 'description': 'user description'}\n",
      "{'id': 224499494503, 'name': 'user 03', 'screen_name': 'Twitter User', 'location': 'Internet', 'url': 'user URL', 'description': 'user description'}\n",
      "{'id': 224499494504, 'name': 'user 04', 'screen_name': 'Twitter User', 'location': 'Internet', 'url': 'user URL', 'description': 'user description'}\n",
      "{'id': 224499494505, 'name': 'user 05', 'screen_name': 'Twitter User', 'location': 'Internet', 'url': 'user URL', 'description': 'user description'}\n",
      "{'id': 224499494506, 'name': 'user 06', 'screen_name': 'Twitter User', 'location': 'Internet', 'url': 'user URL', 'description': 'user description'}\n",
      "{'id': 224499494507, 'name': 'user 07', 'screen_name': 'Twitter User', 'location': 'Internet', 'url': 'user URL', 'description': 'user description'}\n",
      "{'id': 224499494508, 'name': 'user 08', 'screen_name': 'Twitter User', 'location': 'Internet', 'url': 'user URL', 'description': 'user description'}\n",
      "{'id': 224499494509, 'name': 'user 09', 'screen_name': 'Twitter User', 'location': 'Internet', 'url': 'user URL', 'description': 'user description'}\n",
      "{'id': 224499494510, 'name': 'user 10', 'screen_name': 'Twitter User', 'location': 'Internet', 'url': 'user URL', 'description': 'user description'}\n",
      "{'id': 224499494511, 'name': 'user 11', 'screen_name': 'Twitter User', 'location': 'Internet', 'url': 'user URL', 'description': 'user description'}\n",
      "{'id': 224499494512, 'name': 'user 12', 'screen_name': 'Twitter User', 'location': 'Internet', 'url': 'user URL', 'description': 'user description'}\n",
      "{'id': 224499494513, 'name': 'user 13', 'screen_name': 'Twitter User', 'location': 'Internet', 'url': 'user URL', 'description': 'user description'}\n",
      "{'id': 224499494514, 'name': 'user 14', 'screen_name': 'Twitter User', 'location': 'Internet', 'url': 'user URL', 'description': 'user description'}\n",
      "{'id': 224499494515, 'name': 'user 15', 'screen_name': 'Twitter User', 'location': 'Internet', 'url': 'user URL', 'description': 'user description'}\n",
      "{'id': 224499494516, 'name': 'user 16', 'screen_name': 'Twitter User', 'location': 'Internet', 'url': 'user URL', 'description': 'user description'}\n",
      "{'id': 224499494517, 'name': 'user 17', 'screen_name': 'Twitter User', 'location': 'Internet', 'url': 'user URL', 'description': 'user description'}\n",
      "{'id': 224499494518, 'name': 'user 18', 'screen_name': 'Twitter User', 'location': 'Internet', 'url': 'user URL', 'description': 'user description'}\n",
      "{'id': 224499494519, 'name': 'user 19', 'screen_name': 'Twitter User', 'location': 'Internet', 'url': 'user URL', 'description': 'user description'}\n",
      "{'id': 224499494520, 'name': 'user 20', 'screen_name': 'Twitter User', 'location': 'Internet', 'url': 'user URL', 'description': 'user description'}\n",
      "{'id': 224499494521, 'name': 'user 21', 'screen_name': 'Superman', 'location': 'Internet', 'url': 'user URL', 'description': 'user description'}\n",
      "{'id': 224499494522, 'name': 'user 22', 'screen_name': 'Twitter User', 'location': 'Internet', 'url': 'user URL', 'description': 'user description'}\n",
      "{'id': 224499494523, 'name': 'user 23', 'screen_name': 'Superman', 'location': 'Internet', 'url': 'user URL', 'description': 'user description'}\n",
      "{'id': 224499494524, 'name': 'user 24', 'screen_name': 'Twitter User', 'location': 'Internet', 'url': 'user URL', 'description': 'user description'}\n",
      "{'id': 224499494525, 'name': 'user 25', 'screen_name': 'Twitter User', 'location': 'Internet', 'url': 'user URL', 'description': 'user description'}\n",
      "{'id': 224499494526, 'name': 'user 26', 'screen_name': 'Twitter User', 'location': 'Internet', 'url': 'user URL', 'description': 'user description'}\n",
      "{'id': 224499494527, 'name': 'user 27', 'screen_name': 'Twitter User', 'location': 'Internet', 'url': 'user URL', 'description': 'user description'}\n",
      "{'id': 224499494528, 'name': 'user 28', 'screen_name': 'Twitter User', 'location': 'Internet', 'url': 'user URL', 'description': 'user description'}\n",
      "{'id': 224499494529, 'name': 'user 29', 'screen_name': 'Twitter User', 'location': 'Internet', 'url': 'user URL', 'description': 'user description'}\n",
      "{'id': 224499494530, 'name': 'user 30', 'screen_name': 'Twitter User', 'location': 'Internet', 'url': 'user URL', 'description': 'user description'}\n",
      "{'id': 224499494531, 'name': 'user 31', 'screen_name': 'Twitter User', 'location': 'Internet', 'url': 'user URL', 'description': 'user description'}\n",
      "{'id': 224499494532, 'name': 'user 32', 'screen_name': 'Twitter User', 'location': 'Internet', 'url': 'user URL', 'description': 'user description'}\n",
      "{'id': 224499494533, 'name': 'user 33', 'screen_name': 'Twitter User', 'location': 'Internet', 'url': 'user URL', 'description': 'user description'}\n",
      "{'id': 224499494534, 'name': 'user 34', 'screen_name': 'Twitter User', 'location': 'Internet', 'url': 'user URL', 'description': 'user description'}\n",
      "{'id': 224499494535, 'name': 'user 35', 'screen_name': 'Twitter User', 'location': 'Internet', 'url': 'user URL', 'description': 'user description'}\n",
      "{'id': 224499494536, 'name': 'user 36', 'screen_name': 'Twitter User', 'location': 'Internet', 'url': 'user URL', 'description': 'user description'}\n",
      "{'id': 224499494537, 'name': 'user 37', 'screen_name': 'Twitter User', 'location': 'Internet', 'url': 'user URL', 'description': 'user description'}\n",
      "{'id': 224499494538, 'name': 'user 38', 'screen_name': 'Twitter User', 'location': 'Internet', 'url': 'user URL', 'description': 'user description'}\n",
      "{'id': 224499494539, 'name': 'user 39', 'screen_name': 'Twitter User', 'location': 'Internet', 'url': 'user URL', 'description': 'user description'}\n",
      "{'id': 224499494540, 'name': 'user 40', 'screen_name': 'Twitter User', 'location': 'Internet', 'url': 'user URL', 'description': 'user description'}\n",
      "{'id': 224499494541, 'name': 'user 41', 'screen_name': 'Twitter User', 'location': 'Internet', 'url': 'user URL', 'description': 'user description'}\n",
      "{'id': 224499494542, 'name': 'user 42', 'screen_name': 'Twitter User', 'location': 'Internet', 'url': 'user URL', 'description': 'user description'}\n",
      "{'id': 224499494543, 'name': 'user 43', 'screen_name': 'Twitter User', 'location': 'Internet', 'url': 'user URL', 'description': 'user description'}\n",
      "{'id': 224499494544, 'name': 'user 44', 'screen_name': 'Twitter User', 'location': 'Internet', 'url': 'user URL', 'description': 'user description'}\n",
      "{'id': 224499494545, 'name': 'user 45', 'screen_name': 'Twitter User', 'location': 'Internet', 'url': 'user URL', 'description': 'user description'}\n",
      "{'id': 224499494546, 'name': 'user 46', 'screen_name': 'Twitter User', 'location': 'Internet', 'url': 'user URL', 'description': 'user description'}\n",
      "{'id': 224499494547, 'name': 'user 47', 'screen_name': 'Twitter User', 'location': 'Internet', 'url': 'user URL', 'description': 'user description'}\n",
      "{'id': 224499494548, 'name': 'user 48', 'screen_name': 'Twitter User', 'location': 'Internet', 'url': 'user URL', 'description': 'user description'}\n",
      "{'id': 224499494549, 'name': 'user 49', 'screen_name': 'Twitter User', 'location': 'Internet', 'url': 'user URL', 'description': 'user description'}\n",
      "{'id': 224499494550, 'name': 'user 50', 'screen_name': 'Twitter User', 'location': 'Internet', 'url': 'user URL', 'description': 'user description'}\n",
      "deleted user\n"
     ]
    }
   ],
   "source": [
    "for document in col.find():\n",
    "    if 'user' in document.keys():\n",
    "        print (document['user'])"
   ]
  },
  {
   "cell_type": "code",
   "execution_count": 18,
   "id": "7ef71a94-8307-4b75-a4c0-084ecd2cfc3f",
   "metadata": {
    "scrolled": true
   },
   "outputs": [
    {
     "name": "stdout",
     "output_type": "stream",
     "text": [
      "{'_id': ObjectId('66b55f62849d352a3fd41b96')}\n",
      "{'_id': ObjectId('66b55f62849d352a3fd41b97'), 'text': 'On Friday evening we welcomed our new MRes and PhD Students on a walking tour of the City. Some of them are International Students and enjoyed seeing the sights of Sydney!  #cityofsydney #macquarieuniexperience @Macquarie_Uni @mqintl @MQSciEng'}\n",
      "{'_id': ObjectId('66b55f62849d352a3fd41b98'), 'text': 'Excited to publish the BPM Newsletter 1-2018, my first one! Download at https://tinyurl.com/y7ync633  @BPMConf #BPM2018'}\n",
      "{'_id': ObjectId('66b55f62849d352a3fd41b99'), 'text': 'Our social networks  amplify negative more than the positive. Great article  https://washingtonmonthly.com/magazine/january-february-march-2018/how-to-fix-facebook-before-it-fixes-us/ … cc @webfoundation'}\n",
      "{'_id': ObjectId('66b55f62849d352a3fd41b9a'), 'text': 'Welcome to the official Department of Computing @computing_mq Twitter Account.'}\n",
      "{'_id': ObjectId('66b55f62849d352a3fd41b9b'), 'text': \"Watch this incredible @TEDTalks with IBM scientist @BmiBruno titled 'How our brains will keep up with #AI' - and stay tuned for the fun ending - Hint: look at his shoes -  #TEDatIBM\"}\n",
      "{'_id': ObjectId('66b55f62849d352a3fd41b9c'), 'text': 'A man with Down Syndrome, with help from his Dad, is using his million-dollar company to show the world what people with learning disabilities are capable of. Amazing.'}\n",
      "{'_id': ObjectId('66b55f62849d352a3fd41b9d'), 'text': \"Be a good person, but don't waste your time trying to prove it\"}\n",
      "{'_id': ObjectId('66b55f62849d352a3fd41b9e'), 'text': 'Have you started writing your #BPM2018 paper? Only one month left till the abstract submission: http://bpm2018.web.cse.unsw.edu.au/Call_for_Papers.html '}\n",
      "{'_id': ObjectId('66b55f62849d352a3fd41b9f'), 'text': \"The final http://deeplearning.ai  course on Sequence Models is now up on @Coursera! Projects you'll build include Speech trigger word detection, Translation, Emojification, Text generation, ... w/RNN, LSTM, GRU, Word embeddings & Attention. Hope you have fun with it!\"}\n",
      "{'_id': ObjectId('66b55f62849d352a3fd41ba0'), 'text': 'Many people think that patience is a sign of weakness. I think this is a mistake. It is anger that is a sign of weakness, whereas patience is a sign of strength.'}\n",
      "{'_id': ObjectId('66b55f62849d352a3fd41ba1'), 'text': '15-year olds Bailey Holt and Preston Cope, the two teens killed in the #KentuckySchoolShooting. It was the 11th school shooting of 2018. There are 7 days left in January.'}\n",
      "{'_id': ObjectId('66b55f62849d352a3fd41ba2'), 'text': 'Her name is Avgi, and the last time anyone saw her face was in Greece nearly 9,000 years ago'}\n",
      "{'_id': ObjectId('66b55f62849d352a3fd41ba3'), 'text': 'What’s past is past, nothing can change that. But the future can be different if we choose to make it so. We have to cultivate a vision of a happier, more peaceful future and make the effort now to bring it about. This is no time for complacency, hope lies in the action we take.'}\n",
      "{'_id': ObjectId('66b55f62849d352a3fd41ba4'), 'text': 'Business Process Analytics deals with examining large and varied process related data (i.e. big process data) to uncover hidden patterns, unknown correlations, market trends, customer preferences and other useful insights. '}\n",
      "{'_id': ObjectId('66b55f62849d352a3fd41ba5'), 'text': 'Modern education pays little attention to inner values and yet our basic human nature is compassionate. We need to incorporate compassion and warm-heartedness into the modern education system to make it more holistic.'}\n",
      "{'_id': ObjectId('66b55f62849d352a3fd41ba6'), 'text': 'Happiness shouldn’t be a goal, it should be a habit https://virg.in/J3r '}\n",
      "{'_id': ObjectId('66b55f62849d352a3fd41ba7'), 'text': 'The way you perceive and react to the world is a choice. ~David Wallace Choose wisely! 2018 is your chance!'}\n",
      "{'_id': ObjectId('66b55f62849d352a3fd41ba8'), 'text': 'Relive the breathtaking 2017 #SydNYE fireworks display - see the highlights of our biggest fireworks display ever'}\n",
      "{'_id': ObjectId('66b55f62849d352a3fd41ba9'), 'text': 'The Sydney fireworks always looks amazing, on my bucket list to be there for New Years:) Wishing everyone happiness and good health in 2018!'}\n",
      "{'_id': ObjectId('66b55f62849d352a3fd41baa'), 'text': \"'Measuring programming progress by lines of code is like measuring aircraft building progress by weight.' - Bill Gates\"}\n",
      "{'_id': ObjectId('66b55f62849d352a3fd41bab'), 'text': 'Today is the #WinterSolstice, which is also the shortest day of the year! What are solstices & equinoxes, and why do they occur? Get the answers: http://go.nasa.gov/2Bg1aPv '}\n",
      "{'_id': ObjectId('66b55f62849d352a3fd41bac'), 'text': \"Want your first AI job? Come intern with me! We're running an internship program that will help people who've completed MOOCs start employment in AI. http://landing.ai/ai-internship \"}\n",
      "{'_id': ObjectId('66b55f62849d352a3fd41bad'), 'text': \"No one in the brief history of computing has ever written a piece of perfect software. It's unlikely that you'll be the first. - Andy Hunt\"}\n",
      "{'_id': ObjectId('66b55f62849d352a3fd41bae'), 'text': 'If you’re looking for a great read to enjoy over the holidays, you can’t go wrong with one of these books.'}\n",
      "{'_id': ObjectId('66b55f62849d352a3fd41baf'), 'text': 'This kind photographer turned kids with illnesses and disabilities into superheroes #SundayMorning'}\n",
      "{'_id': ObjectId('66b55f62849d352a3fd41bb0'), 'text': \"Thinking a lot about diversity in AI. Here's my current Stanford group: https://stanfordmlgroup.github.io/#people  We striving to do better and increase diversity. AI needs to welcome everyone!\"}\n",
      "{'_id': ObjectId('66b55f62849d352a3fd41bb1'), 'text': 'What is important is not so much how long you live as whether you live a meaningful life. This doesn’t mean accumulating money and fame, but being of service to your fellow human beings. It means helping others if you can, but even if you can’t do that, at least not harming them.'}\n",
      "{'_id': ObjectId('66b55f62849d352a3fd41bb2'), 'text': 'If you ever wondered about the role of a senior pc member or a general chair at BPM conferences, check the new version of the BPM Conference Guidelines at http://bit.ly/2A2NWG1 '}\n",
      "{'_id': ObjectId('66b55f62849d352a3fd41bb3'), 'text': 'Boston Dynamics new Atlas robot'}\n",
      "{'_id': ObjectId('66b55f62849d352a3fd41bb4'), 'text': 'The use of force may control people physically, but it won’t change their hearts and minds. You can only do that on the basis of trust and friendship.'}\n",
      "{'_id': ObjectId('66b55f62849d352a3fd41bb5'), 'text': 'CoreDB: a Data Lake Service: http://youtu.be/uCOn67IdrPU?a  via @YouTube'}\n",
      "{'_id': ObjectId('66b55f62849d352a3fd41bb6'), 'text': 'Happy Day of Cyrus the Great, the King of Persia - 29 October. Here is a drawing I made almost one year ago when I visited his tomb.'}\n",
      "{'_id': ObjectId('66b55f62849d352a3fd41bb7'), 'text': 'Optical Illusion Crosswalk Aims to Slow Down Speedy Iceland Drivers'}\n",
      "{'_id': ObjectId('66b55f62849d352a3fd41bb8'), 'text': 'Interested in co-locating your workshop with #BPM2018? Have a look at the call for workshop proposals: http://bit.ly/2gnxUNY '}\n",
      "{'_id': ObjectId('66b55f62849d352a3fd41bb9'), 'text': 'How can a chatbot help with mental health? Great article on Woebot. @willknight'}\n",
      "{'_id': ObjectId('66b55f62849d352a3fd41bba'), 'text': 'Figure out your data structures, and the code will follow. - William Laeder'}\n",
      "{'_id': ObjectId('66b55f62849d352a3fd41bbb'), 'text': 'Learning by playing #games is a key way that humans & animals build intelligence. #AI can work the same way https://www.topbots.com/how-games-make-ai-smarter-openai-starcraft-minecraft/ … #ML'}\n",
      "{'_id': ObjectId('66b55f62849d352a3fd41bbc'), 'text': '@Samsung Bought a fridge, 2000$, makes noise like a jackhammer (60 dB) customer service tells me to wait SIX MONTHS. bs. #samsungshameshame'}\n",
      "{'_id': ObjectId('66b55f62849d352a3fd41bbd'), 'text': 'Hundreds of millions of students spending years in school while learning virtually nothing. We need to do better!'}\n",
      "{'_id': ObjectId('66b55f62849d352a3fd41bbe'), 'text': 'Failure is not falling down, but refusing to get up.~Chinese Proverb'}\n",
      "{'_id': ObjectId('66b55f62849d352a3fd41bbf'), 'text': 'Putin says the nation that leads in AI ‘will be the ruler of the world’'}\n",
      "{'_id': ObjectId('66b55f62849d352a3fd41bc0'), 'text': 'Putting everyday objects in the hands of great teachers can lead to magical moments in the classroom…'}\n",
      "{'_id': ObjectId('66b55f62849d352a3fd41bc1'), 'text': 'You may control people physically by force, but you won’t change their hearts and minds—that requires trust and friendship.'}\n",
      "{'_id': ObjectId('66b55f62849d352a3fd41bc2'), 'text': 'Congrats to Dr @Jemma_Geoghegan, recipient of a Young Tall Poppy Science Award for her work in evolutionary biology! http://macq.it/2v3fVkQ '}\n",
      "{'_id': ObjectId('66b55f62849d352a3fd41bc3'), 'text': \"There is a growing danger we are slowly sleepwalking into war on the Korean Peninsula. My reflections in today's @FT\"}\n",
      "{'_id': ObjectId('66b55f62849d352a3fd41bc4'), 'text': 'One of the most brilliant and chilling things ever written about nuclear war, by the late Roger Fisher.'}\n",
      "{'_id': ObjectId('66b55f62849d352a3fd41bc5'), 'text': 'There are few things I enjoy more than reading a good book. Here are a few I’ve read and recommend: http://bit.ly/2wJGOLK  #BookLoversDay'}\n",
      "{'_id': ObjectId('66b55f62849d352a3fd41bc6'), 'text': 'Announcing deeplearning.ai! Deep Learning on Coursera: Master Deep Learning, and build a career in AI!'}\n",
      "{'_id': ObjectId('66b55f62849d352a3fd41bc7'), 'text': 'The universe is a pretty big place. If it’s just us, seems like an awful waste of space. ~Carl Sagan'}\n",
      "{'_id': ObjectId('66b5606a167aec6df5072f8a')}\n",
      "{'_id': ObjectId('66bea2999d08f0a826072f8a')}\n"
     ]
    }
   ],
   "source": [
    "for document in col.find({},{\"text\": 1}): \n",
    "    print(document)\n",
    "# AlWAYS check whether this field exist in the database or not then write the query in print"
   ]
  },
  {
   "cell_type": "code",
   "execution_count": 19,
   "id": "c6e12ad5-81dc-4c59-9f08-a6807eba2ca7",
   "metadata": {},
   "outputs": [
    {
     "name": "stdout",
     "output_type": "stream",
     "text": [
      "{'_id': ObjectId('66b55f62849d352a3fd41b97'), 'user': {'name': 'user 02'}}\n",
      "{'_id': ObjectId('66b55f62849d352a3fd41b98'), 'user': {'name': 'user 03'}}\n",
      "{'_id': ObjectId('66b55f62849d352a3fd41b99'), 'user': {'name': 'user 04'}}\n",
      "{'_id': ObjectId('66b55f62849d352a3fd41b9a'), 'user': {'name': 'user 05'}}\n",
      "{'_id': ObjectId('66b55f62849d352a3fd41b9b'), 'user': {'name': 'user 06'}}\n",
      "{'_id': ObjectId('66b55f62849d352a3fd41b9c'), 'user': {'name': 'user 07'}}\n",
      "{'_id': ObjectId('66b55f62849d352a3fd41b9d'), 'user': {'name': 'user 08'}}\n",
      "{'_id': ObjectId('66b55f62849d352a3fd41b9e'), 'user': {'name': 'user 09'}}\n",
      "{'_id': ObjectId('66b55f62849d352a3fd41b9f'), 'user': {'name': 'user 10'}}\n",
      "{'_id': ObjectId('66b55f62849d352a3fd41ba0'), 'user': {'name': 'user 11'}}\n",
      "{'_id': ObjectId('66b55f62849d352a3fd41ba1'), 'user': {'name': 'user 12'}}\n",
      "{'_id': ObjectId('66b55f62849d352a3fd41ba2'), 'user': {'name': 'user 13'}}\n",
      "{'_id': ObjectId('66b55f62849d352a3fd41ba3'), 'user': {'name': 'user 14'}}\n",
      "{'_id': ObjectId('66b55f62849d352a3fd41ba4'), 'user': {'name': 'user 15'}}\n",
      "{'_id': ObjectId('66b55f62849d352a3fd41ba5'), 'user': {'name': 'user 16'}}\n",
      "{'_id': ObjectId('66b55f62849d352a3fd41ba6'), 'user': {'name': 'user 17'}}\n",
      "{'_id': ObjectId('66b55f62849d352a3fd41ba7'), 'user': {'name': 'user 18'}}\n",
      "{'_id': ObjectId('66b55f62849d352a3fd41ba8'), 'user': {'name': 'user 19'}}\n",
      "{'_id': ObjectId('66b55f62849d352a3fd41ba9'), 'user': {'name': 'user 20'}}\n",
      "{'_id': ObjectId('66b55f62849d352a3fd41baa'), 'user': {'name': 'user 21'}}\n"
     ]
    }
   ],
   "source": [
    "for document in col.find({\"user.id\":{\"$lt\":224499494522}},{\"user.name\": 1}): \n",
    "    print(document)"
   ]
  },
  {
   "cell_type": "code",
   "execution_count": 20,
   "id": "60e7b52d-da9f-4517-92cf-108d0837eb6d",
   "metadata": {},
   "outputs": [
    {
     "data": {
      "text/plain": [
       "UpdateResult({'n': 1, 'nModified': 0, 'ok': 1.0, 'updatedExisting': True}, acknowledged=True)"
      ]
     },
     "execution_count": 20,
     "metadata": {},
     "output_type": "execute_result"
    }
   ],
   "source": [
    "col.update_one({\"user.name\":\"user 23\"},{\"$set\" : {\"user.screen_name\":\"Superman\"}})"
   ]
  },
  {
   "cell_type": "code",
   "execution_count": 21,
   "id": "2ee2bfe6-f98f-478e-add0-43d176b06302",
   "metadata": {},
   "outputs": [
    {
     "data": {
      "text/plain": [
       "DeleteResult({'n': 0, 'ok': 1.0}, acknowledged=True)"
      ]
     },
     "execution_count": 21,
     "metadata": {},
     "output_type": "execute_result"
    }
   ],
   "source": [
    "col.delete_one({\"user.screeen_name\":\"Superman\"})"
   ]
  },
  {
   "cell_type": "code",
   "execution_count": 24,
   "id": "31cd3d9d-ae2b-4254-8990-c71788e0f0b0",
   "metadata": {},
   "outputs": [],
   "source": [
    "from bson.objectid import ObjectId"
   ]
  },
  {
   "cell_type": "code",
   "execution_count": 25,
   "id": "58dcb536-ade6-4c5a-a6d9-4a658c2cff43",
   "metadata": {},
   "outputs": [
    {
     "ename": "InvalidId",
     "evalue": "'' is not a valid ObjectId, it must be a 12-byte input or a 24-character hex string",
     "output_type": "error",
     "traceback": [
      "\u001b[1;31m---------------------------------------------------------------------------\u001b[0m",
      "\u001b[1;31mInvalidId\u001b[0m                                 Traceback (most recent call last)",
      "Cell \u001b[1;32mIn[25], line 1\u001b[0m\n\u001b[1;32m----> 1\u001b[0m \u001b[38;5;28;01mfor\u001b[39;00m document \u001b[38;5;129;01min\u001b[39;00m col\u001b[38;5;241m.\u001b[39mfind({\u001b[38;5;124m'\u001b[39m\u001b[38;5;124m_id\u001b[39m\u001b[38;5;124m'\u001b[39m: \u001b[43mObjectId\u001b[49m\u001b[43m(\u001b[49m\u001b[38;5;124;43m'\u001b[39;49m\u001b[38;5;124;43m'\u001b[39;49m\u001b[43m)\u001b[49m}):\n\u001b[0;32m      2\u001b[0m     \u001b[38;5;28mprint\u001b[39m (document)\n",
      "File \u001b[1;32mD:\\Python312\\Lib\\site-packages\\bson\\objectid.py:102\u001b[0m, in \u001b[0;36mObjectId.__init__\u001b[1;34m(self, oid)\u001b[0m\n\u001b[0;32m    100\u001b[0m     \u001b[38;5;28mself\u001b[39m\u001b[38;5;241m.\u001b[39m__id \u001b[38;5;241m=\u001b[39m oid\n\u001b[0;32m    101\u001b[0m \u001b[38;5;28;01melse\u001b[39;00m:\n\u001b[1;32m--> 102\u001b[0m     \u001b[38;5;28;43mself\u001b[39;49m\u001b[38;5;241;43m.\u001b[39;49m\u001b[43m__validate\u001b[49m\u001b[43m(\u001b[49m\u001b[43moid\u001b[49m\u001b[43m)\u001b[49m\n",
      "File \u001b[1;32mD:\\Python312\\Lib\\site-packages\\bson\\objectid.py:197\u001b[0m, in \u001b[0;36mObjectId.__validate\u001b[1;34m(self, oid)\u001b[0m\n\u001b[0;32m    195\u001b[0m             _raise_invalid_id(oid)\n\u001b[0;32m    196\u001b[0m     \u001b[38;5;28;01melse\u001b[39;00m:\n\u001b[1;32m--> 197\u001b[0m         \u001b[43m_raise_invalid_id\u001b[49m\u001b[43m(\u001b[49m\u001b[43moid\u001b[49m\u001b[43m)\u001b[49m\n\u001b[0;32m    198\u001b[0m \u001b[38;5;28;01melse\u001b[39;00m:\n\u001b[0;32m    199\u001b[0m     \u001b[38;5;28;01mraise\u001b[39;00m \u001b[38;5;167;01mTypeError\u001b[39;00m(\u001b[38;5;124mf\u001b[39m\u001b[38;5;124m\"\u001b[39m\u001b[38;5;124mid must be an instance of (bytes, str, ObjectId), not \u001b[39m\u001b[38;5;132;01m{\u001b[39;00m\u001b[38;5;28mtype\u001b[39m(oid)\u001b[38;5;132;01m}\u001b[39;00m\u001b[38;5;124m\"\u001b[39m)\n",
      "File \u001b[1;32mD:\\Python312\\Lib\\site-packages\\bson\\objectid.py:35\u001b[0m, in \u001b[0;36m_raise_invalid_id\u001b[1;34m(oid)\u001b[0m\n\u001b[0;32m     34\u001b[0m \u001b[38;5;28;01mdef\u001b[39;00m \u001b[38;5;21m_raise_invalid_id\u001b[39m(oid: \u001b[38;5;28mstr\u001b[39m) \u001b[38;5;241m-\u001b[39m\u001b[38;5;241m>\u001b[39m NoReturn:\n\u001b[1;32m---> 35\u001b[0m     \u001b[38;5;28;01mraise\u001b[39;00m InvalidId(\n\u001b[0;32m     36\u001b[0m         \u001b[38;5;124m\"\u001b[39m\u001b[38;5;132;01m%r\u001b[39;00m\u001b[38;5;124m is not a valid ObjectId, it must be a 12-byte input\u001b[39m\u001b[38;5;124m\"\u001b[39m\n\u001b[0;32m     37\u001b[0m         \u001b[38;5;124m\"\u001b[39m\u001b[38;5;124m or a 24-character hex string\u001b[39m\u001b[38;5;124m\"\u001b[39m \u001b[38;5;241m%\u001b[39m oid\n\u001b[0;32m     38\u001b[0m     )\n",
      "\u001b[1;31mInvalidId\u001b[0m: '' is not a valid ObjectId, it must be a 12-byte input or a 24-character hex string"
     ]
    }
   ],
   "source": [
    "for document in col.find({'_id': ObjectId('')}):\n",
    "    print (document)"
   ]
  },
  {
   "cell_type": "code",
   "execution_count": null,
   "id": "fc1a6b42-b834-49a8-b135-e8a8462cc3dd",
   "metadata": {},
   "outputs": [],
   "source": []
  }
 ],
 "metadata": {
  "kernelspec": {
   "display_name": "Python 3 (ipykernel)",
   "language": "python",
   "name": "python3"
  },
  "language_info": {
   "codemirror_mode": {
    "name": "ipython",
    "version": 3
   },
   "file_extension": ".py",
   "mimetype": "text/x-python",
   "name": "python",
   "nbconvert_exporter": "python",
   "pygments_lexer": "ipython3",
   "version": "3.12.1"
  }
 },
 "nbformat": 4,
 "nbformat_minor": 5
}
