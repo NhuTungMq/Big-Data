{
 "cells": [
  {
   "cell_type": "code",
   "execution_count": 10,
   "id": "a8346605-46ad-4ffc-99fb-85cee11e8df2",
   "metadata": {},
   "outputs": [],
   "source": [
    "import nltk"
   ]
  },
  {
   "cell_type": "code",
   "execution_count": 4,
   "id": "d69b7e0d-637f-406d-8e42-c31644422d96",
   "metadata": {},
   "outputs": [
    {
     "name": "stdout",
     "output_type": "stream",
     "text": [
      "Collecting nltk\n",
      "  Using cached nltk-3.9.1-py3-none-any.whl.metadata (2.9 kB)\n",
      "Requirement already satisfied: click in d:\\anaconda3\\lib\\site-packages (from nltk) (8.1.7)\n",
      "Collecting joblib (from nltk)\n",
      "  Using cached joblib-1.4.2-py3-none-any.whl.metadata (5.4 kB)\n",
      "Collecting regex>=2021.8.3 (from nltk)\n",
      "  Using cached regex-2024.7.24-cp312-cp312-win_amd64.whl.metadata (41 kB)\n",
      "Requirement already satisfied: tqdm in d:\\anaconda3\\lib\\site-packages (from nltk) (4.66.5)\n",
      "Requirement already satisfied: colorama in d:\\anaconda3\\lib\\site-packages (from click->nltk) (0.4.6)\n",
      "Using cached nltk-3.9.1-py3-none-any.whl (1.5 MB)\n",
      "Using cached regex-2024.7.24-cp312-cp312-win_amd64.whl (269 kB)\n",
      "Using cached joblib-1.4.2-py3-none-any.whl (301 kB)\n",
      "Installing collected packages: regex, joblib, nltk\n",
      "Successfully installed joblib-1.4.2 nltk-3.9.1 regex-2024.7.24\n"
     ]
    }
   ],
   "source": [
    "!pip install nltk"
   ]
  },
  {
   "cell_type": "code",
   "execution_count": 12,
   "id": "4e95343c-fbc3-41ea-ae5b-7b1d81af8b2c",
   "metadata": {},
   "outputs": [
    {
     "name": "stderr",
     "output_type": "stream",
     "text": [
      "[nltk_data] Downloading package stopwords to D:\\nltk_data...\n",
      "[nltk_data]   Unzipping corpora\\stopwords.zip.\n",
      "[nltk_data] Downloading package punkt to D:\\nltk_data...\n",
      "[nltk_data]   Unzipping tokenizers\\punkt.zip.\n",
      "[nltk_data] Downloading package averaged_perceptron_tagger to\n",
      "[nltk_data]     D:\\nltk_data...\n",
      "[nltk_data]   Unzipping taggers\\averaged_perceptron_tagger.zip.\n"
     ]
    },
    {
     "data": {
      "text/plain": [
       "True"
      ]
     },
     "execution_count": 12,
     "metadata": {},
     "output_type": "execute_result"
    }
   ],
   "source": [
    "nltk.download(\"stopwords\")\n",
    "nltk.download(\"punkt\")\n",
    "nltk.download(\"averaged_perceptron_tagger\")"
   ]
  },
  {
   "cell_type": "code",
   "execution_count": 28,
   "id": "68b3a658-96e9-43d1-bcb0-dfecbfd9db0d",
   "metadata": {},
   "outputs": [],
   "source": [
    "import pymongo"
   ]
  },
  {
   "cell_type": "code",
   "execution_count": 30,
   "id": "0f66d7a9-e470-40ff-ab06-5d7ce06bdcbc",
   "metadata": {},
   "outputs": [],
   "source": [
    "connection = pymongo.MongoClient(\"localhost:27017\")"
   ]
  },
  {
   "cell_type": "code",
   "execution_count": 32,
   "id": "46de7103-52ab-4af4-b76a-a37016aae171",
   "metadata": {},
   "outputs": [],
   "source": [
    "db = connection['week_5']"
   ]
  },
  {
   "cell_type": "code",
   "execution_count": 34,
   "id": "0f42e432-84d5-4c4d-8bef-a4bb2d887669",
   "metadata": {},
   "outputs": [],
   "source": [
    "col = db['Tweets']"
   ]
  },
  {
   "cell_type": "code",
   "execution_count": 36,
   "id": "8bd27d59-47b5-4e5c-89bc-70b1eeb4b532",
   "metadata": {},
   "outputs": [],
   "source": [
    "col = connection[\"week_5\"][\"Tweets\"]"
   ]
  },
  {
   "cell_type": "code",
   "execution_count": 40,
   "id": "14ef758b-a982-417b-ba02-ff32c699ef45",
   "metadata": {},
   "outputs": [
    {
     "ename": "KeyError",
     "evalue": "'text'",
     "output_type": "error",
     "traceback": [
      "\u001b[1;31m---------------------------------------------------------------------------\u001b[0m",
      "\u001b[1;31mKeyError\u001b[0m                                  Traceback (most recent call last)",
      "Cell \u001b[1;32mIn[40], line 2\u001b[0m\n\u001b[0;32m      1\u001b[0m \u001b[38;5;28;01mfor\u001b[39;00m doc \u001b[38;5;129;01min\u001b[39;00m col\u001b[38;5;241m.\u001b[39mfind():\n\u001b[1;32m----> 2\u001b[0m     text \u001b[38;5;241m=\u001b[39m doc[\u001b[38;5;124m'\u001b[39m\u001b[38;5;124mtext\u001b[39m\u001b[38;5;124m'\u001b[39m]\n",
      "\u001b[1;31mKeyError\u001b[0m: 'text'"
     ]
    }
   ],
   "source": [
    "for doc in col.find():\n",
    "    text = doc['text']"
   ]
  },
  {
   "cell_type": "code",
   "execution_count": 62,
   "id": "d217e37e-760f-4ee2-8b7c-fd7c844a18c7",
   "metadata": {},
   "outputs": [
    {
     "data": {
      "text/plain": [
       "\"Watch this incredible @TEDTalks with IBM scientist @BmiBruno titled 'How our brains will keep up with #AI' - and stay tuned for the fun ending - Hint: look at his shoes -  #TEDatIBM\""
      ]
     },
     "execution_count": 62,
     "metadata": {},
     "output_type": "execute_result"
    }
   ],
   "source": [
    "text"
   ]
  },
  {
   "cell_type": "code",
   "execution_count": 63,
   "id": "317693c7-a225-4943-a59d-354136cc0eb8",
   "metadata": {},
   "outputs": [],
   "source": [
    "## Step 1 remove symbol\n",
    "def step1(text):\n",
    "    import re\n",
    "    res1 = re.sub(r\"[^\\w]\", \" \", text)\n",
    "    return res1"
   ]
  },
  {
   "cell_type": "code",
   "execution_count": 64,
   "id": "7e74758a-4178-43b5-b760-7127e13b522e",
   "metadata": {},
   "outputs": [
    {
     "data": {
      "text/plain": [
       "'Watch this incredible  TEDTalks with IBM scientist  BmiBruno titled  How our brains will keep up with  AI    and stay tuned for the fun ending   Hint  look at his shoes     TEDatIBM'"
      ]
     },
     "execution_count": 64,
     "metadata": {},
     "output_type": "execute_result"
    }
   ],
   "source": [
    "res1 = step1(text)\n",
    "res1"
   ]
  },
  {
   "cell_type": "code",
   "execution_count": 65,
   "id": "53a4c6c9-b27f-4c31-8b1c-29359cca7932",
   "metadata": {},
   "outputs": [],
   "source": [
    "## Step 2 word tokenization\n",
    "def step2(text):\n",
    "    from nltk.tokenize import word_tokenize\n",
    "    res2 = word_tokenize(text)\n",
    "    return res2"
   ]
  },
  {
   "cell_type": "code",
   "execution_count": 66,
   "id": "0a08fda6-4187-423c-abcb-f2d59e817ed3",
   "metadata": {
    "scrolled": true
   },
   "outputs": [
    {
     "data": {
      "text/plain": [
       "['Watch',\n",
       " 'this',\n",
       " 'incredible',\n",
       " '@',\n",
       " 'TEDTalks',\n",
       " 'with',\n",
       " 'IBM',\n",
       " 'scientist',\n",
       " '@',\n",
       " 'BmiBruno',\n",
       " 'titled',\n",
       " \"'How\",\n",
       " 'our',\n",
       " 'brains',\n",
       " 'will',\n",
       " 'keep',\n",
       " 'up',\n",
       " 'with',\n",
       " '#',\n",
       " 'AI',\n",
       " \"'\",\n",
       " '-',\n",
       " 'and',\n",
       " 'stay',\n",
       " 'tuned',\n",
       " 'for',\n",
       " 'the',\n",
       " 'fun',\n",
       " 'ending',\n",
       " '-',\n",
       " 'Hint',\n",
       " ':',\n",
       " 'look',\n",
       " 'at',\n",
       " 'his',\n",
       " 'shoes',\n",
       " '-',\n",
       " '#',\n",
       " 'TEDatIBM']"
      ]
     },
     "execution_count": 66,
     "metadata": {},
     "output_type": "execute_result"
    }
   ],
   "source": [
    "res2 = step2(text)\n",
    "res2"
   ]
  },
  {
   "cell_type": "code",
   "execution_count": 67,
   "id": "b7560ace-eb7a-42df-9cdd-29032bd2a986",
   "metadata": {},
   "outputs": [],
   "source": [
    "## step 3 : remove stopwords\n",
    "def step3(word_list):\n",
    "    from nltk.corpus import stopwords\n",
    "    res3 = []\n",
    "    for word in res2:\n",
    "        if word.lower() not in stopwords.words(\"english\"):\n",
    "            res3.append(word)\n",
    "    return res3"
   ]
  },
  {
   "cell_type": "code",
   "execution_count": 68,
   "id": "c54f2913-b409-4837-812b-266207f52443",
   "metadata": {},
   "outputs": [
    {
     "data": {
      "text/plain": [
       "['Watch',\n",
       " 'incredible',\n",
       " '@',\n",
       " 'TEDTalks',\n",
       " 'IBM',\n",
       " 'scientist',\n",
       " '@',\n",
       " 'BmiBruno',\n",
       " 'titled',\n",
       " \"'How\",\n",
       " 'brains',\n",
       " 'keep',\n",
       " '#',\n",
       " 'AI',\n",
       " \"'\",\n",
       " '-',\n",
       " 'stay',\n",
       " 'tuned',\n",
       " 'fun',\n",
       " 'ending',\n",
       " '-',\n",
       " 'Hint',\n",
       " ':',\n",
       " 'look',\n",
       " 'shoes',\n",
       " '-',\n",
       " '#',\n",
       " 'TEDatIBM']"
      ]
     },
     "execution_count": 68,
     "metadata": {},
     "output_type": "execute_result"
    }
   ],
   "source": [
    "res3 = step3(res2)\n",
    "res3"
   ]
  },
  {
   "cell_type": "code",
   "execution_count": 69,
   "id": "fb9db7a7-382b-4b84-8dce-32775c85e61a",
   "metadata": {},
   "outputs": [],
   "source": [
    "## Step 4 : word stemming\n",
    "def step4(res3):\n",
    "    from nltk.stem import PorterStemmer\n",
    "    ps = PorterStemmer()\n",
    "    res4 = []\n",
    "    for word in res3:\n",
    "        res4.append(ps.stem(word))\n",
    "    return res4"
   ]
  },
  {
   "cell_type": "code",
   "execution_count": 70,
   "id": "0c16982c-0c72-4fcc-939a-a7bc6c12bb75",
   "metadata": {},
   "outputs": [
    {
     "data": {
      "text/plain": [
       "['watch',\n",
       " 'incred',\n",
       " '@',\n",
       " 'tedtalk',\n",
       " 'ibm',\n",
       " 'scientist',\n",
       " '@',\n",
       " 'bmibruno',\n",
       " 'titl',\n",
       " \"'how\",\n",
       " 'brain',\n",
       " 'keep',\n",
       " '#',\n",
       " 'ai',\n",
       " \"'\",\n",
       " '-',\n",
       " 'stay',\n",
       " 'tune',\n",
       " 'fun',\n",
       " 'end',\n",
       " '-',\n",
       " 'hint',\n",
       " ':',\n",
       " 'look',\n",
       " 'shoe',\n",
       " '-',\n",
       " '#',\n",
       " 'tedatibm']"
      ]
     },
     "execution_count": 70,
     "metadata": {},
     "output_type": "execute_result"
    }
   ],
   "source": [
    "res4 = step4(res3)\n",
    "res4"
   ]
  },
  {
   "cell_type": "code",
   "execution_count": 71,
   "id": "a791c593-e4cf-43c9-8768-32eea7b37100",
   "metadata": {},
   "outputs": [],
   "source": [
    "## Step 5: pos tagging\n",
    "def step5(res4):\n",
    "    return nltk.pos_tag(res4)"
   ]
  },
  {
   "cell_type": "code",
   "execution_count": 73,
   "id": "5ef8b3d1-2181-4f7a-bcc1-4fd7fbbe38de",
   "metadata": {},
   "outputs": [
    {
     "data": {
      "text/plain": [
       "[('watch', 'NN'),\n",
       " ('incred', 'VBD'),\n",
       " ('@', 'JJ'),\n",
       " ('tedtalk', 'NN'),\n",
       " ('ibm', 'NN'),\n",
       " ('scientist', 'NN'),\n",
       " ('@', 'NNP'),\n",
       " ('bmibruno', 'NN'),\n",
       " ('titl', 'NN'),\n",
       " (\"'how\", 'POS'),\n",
       " ('brain', 'NN'),\n",
       " ('keep', 'NN'),\n",
       " ('#', '#'),\n",
       " ('ai', 'NN'),\n",
       " (\"'\", \"''\"),\n",
       " ('-', ':'),\n",
       " ('stay', 'NN'),\n",
       " ('tune', 'IN'),\n",
       " ('fun', 'JJ'),\n",
       " ('end', 'NN'),\n",
       " ('-', ':'),\n",
       " ('hint', 'NN'),\n",
       " (':', ':'),\n",
       " ('look', 'NN'),\n",
       " ('shoe', 'SYM'),\n",
       " ('-', ':'),\n",
       " ('#', '#'),\n",
       " ('tedatibm', 'NN')]"
      ]
     },
     "execution_count": 73,
     "metadata": {},
     "output_type": "execute_result"
    }
   ],
   "source": [
    "res5 = step5(res4)\n",
    "res5"
   ]
  },
  {
   "cell_type": "code",
   "execution_count": 78,
   "id": "4d69c5d2-53a0-499e-9720-69e78ea1d166",
   "metadata": {},
   "outputs": [],
   "source": [
    "def preprocess(text):\n",
    "    res1 = step1(text)\n",
    "    res2 = step2(res1)\n",
    "    res3 = step3(res2)\n",
    "    res4 = step4(res3)\n",
    "    final_res = step5(res4)\n",
    "    return final_res"
   ]
  },
  {
   "cell_type": "code",
   "execution_count": 85,
   "id": "9d18826e-9e42-4281-bf16-e2c99713c91c",
   "metadata": {},
   "outputs": [
    {
     "name": "stdout",
     "output_type": "stream",
     "text": [
      "[('watch', 'NN'), ('incred', 'VBD'), ('@', 'JJ'), ('tedtalk', 'NN'), ('ibm', 'NN'), ('scientist', 'NN'), ('@', 'NNP'), ('bmibruno', 'NN'), ('titl', 'NN'), (\"'how\", 'POS'), ('brain', 'NN'), ('keep', 'NN'), ('#', '#'), ('ai', 'NN'), (\"'\", \"''\"), ('-', ':'), ('stay', 'NN'), ('tune', 'IN'), ('fun', 'JJ'), ('end', 'NN'), ('-', ':'), ('hint', 'NN'), (':', ':'), ('look', 'NN'), ('shoe', 'SYM'), ('-', ':'), ('#', '#'), ('tedatibm', 'NN')]\n",
      "[('watch', 'NN'), ('incred', 'VBD'), ('@', 'JJ'), ('tedtalk', 'NN'), ('ibm', 'NN'), ('scientist', 'NN'), ('@', 'NNP'), ('bmibruno', 'NN'), ('titl', 'NN'), (\"'how\", 'POS'), ('brain', 'NN'), ('keep', 'NN'), ('#', '#'), ('ai', 'NN'), (\"'\", \"''\"), ('-', ':'), ('stay', 'NN'), ('tune', 'IN'), ('fun', 'JJ'), ('end', 'NN'), ('-', ':'), ('hint', 'NN'), (':', ':'), ('look', 'NN'), ('shoe', 'SYM'), ('-', ':'), ('#', '#'), ('tedatibm', 'NN')]\n",
      "[('watch', 'NN'), ('incred', 'VBD'), ('@', 'JJ'), ('tedtalk', 'NN'), ('ibm', 'NN'), ('scientist', 'NN'), ('@', 'NNP'), ('bmibruno', 'NN'), ('titl', 'NN'), (\"'how\", 'POS'), ('brain', 'NN'), ('keep', 'NN'), ('#', '#'), ('ai', 'NN'), (\"'\", \"''\"), ('-', ':'), ('stay', 'NN'), ('tune', 'IN'), ('fun', 'JJ'), ('end', 'NN'), ('-', ':'), ('hint', 'NN'), (':', ':'), ('look', 'NN'), ('shoe', 'SYM'), ('-', ':'), ('#', '#'), ('tedatibm', 'NN')]\n",
      "[('watch', 'NN'), ('incred', 'VBD'), ('@', 'JJ'), ('tedtalk', 'NN'), ('ibm', 'NN'), ('scientist', 'NN'), ('@', 'NNP'), ('bmibruno', 'NN'), ('titl', 'NN'), (\"'how\", 'POS'), ('brain', 'NN'), ('keep', 'NN'), ('#', '#'), ('ai', 'NN'), (\"'\", \"''\"), ('-', ':'), ('stay', 'NN'), ('tune', 'IN'), ('fun', 'JJ'), ('end', 'NN'), ('-', ':'), ('hint', 'NN'), (':', ':'), ('look', 'NN'), ('shoe', 'SYM'), ('-', ':'), ('#', '#'), ('tedatibm', 'NN')]\n",
      "[('watch', 'NN'), ('incred', 'VBD'), ('@', 'JJ'), ('tedtalk', 'NN'), ('ibm', 'NN'), ('scientist', 'NN'), ('@', 'NNP'), ('bmibruno', 'NN'), ('titl', 'NN'), (\"'how\", 'POS'), ('brain', 'NN'), ('keep', 'NN'), ('#', '#'), ('ai', 'NN'), (\"'\", \"''\"), ('-', ':'), ('stay', 'NN'), ('tune', 'IN'), ('fun', 'JJ'), ('end', 'NN'), ('-', ':'), ('hint', 'NN'), (':', ':'), ('look', 'NN'), ('shoe', 'SYM'), ('-', ':'), ('#', '#'), ('tedatibm', 'NN')]\n",
      "[('watch', 'NN'), ('incred', 'VBD'), ('@', 'JJ'), ('tedtalk', 'NN'), ('ibm', 'NN'), ('scientist', 'NN'), ('@', 'NNP'), ('bmibruno', 'NN'), ('titl', 'NN'), (\"'how\", 'POS'), ('brain', 'NN'), ('keep', 'NN'), ('#', '#'), ('ai', 'NN'), (\"'\", \"''\"), ('-', ':'), ('stay', 'NN'), ('tune', 'IN'), ('fun', 'JJ'), ('end', 'NN'), ('-', ':'), ('hint', 'NN'), (':', ':'), ('look', 'NN'), ('shoe', 'SYM'), ('-', ':'), ('#', '#'), ('tedatibm', 'NN')]\n",
      "[('watch', 'NN'), ('incred', 'VBD'), ('@', 'JJ'), ('tedtalk', 'NN'), ('ibm', 'NN'), ('scientist', 'NN'), ('@', 'NNP'), ('bmibruno', 'NN'), ('titl', 'NN'), (\"'how\", 'POS'), ('brain', 'NN'), ('keep', 'NN'), ('#', '#'), ('ai', 'NN'), (\"'\", \"''\"), ('-', ':'), ('stay', 'NN'), ('tune', 'IN'), ('fun', 'JJ'), ('end', 'NN'), ('-', ':'), ('hint', 'NN'), (':', ':'), ('look', 'NN'), ('shoe', 'SYM'), ('-', ':'), ('#', '#'), ('tedatibm', 'NN')]\n",
      "[('watch', 'NN'), ('incred', 'VBD'), ('@', 'JJ'), ('tedtalk', 'NN'), ('ibm', 'NN'), ('scientist', 'NN'), ('@', 'NNP'), ('bmibruno', 'NN'), ('titl', 'NN'), (\"'how\", 'POS'), ('brain', 'NN'), ('keep', 'NN'), ('#', '#'), ('ai', 'NN'), (\"'\", \"''\"), ('-', ':'), ('stay', 'NN'), ('tune', 'IN'), ('fun', 'JJ'), ('end', 'NN'), ('-', ':'), ('hint', 'NN'), (':', ':'), ('look', 'NN'), ('shoe', 'SYM'), ('-', ':'), ('#', '#'), ('tedatibm', 'NN')]\n",
      "[('watch', 'NN'), ('incred', 'VBD'), ('@', 'JJ'), ('tedtalk', 'NN'), ('ibm', 'NN'), ('scientist', 'NN'), ('@', 'NNP'), ('bmibruno', 'NN'), ('titl', 'NN'), (\"'how\", 'POS'), ('brain', 'NN'), ('keep', 'NN'), ('#', '#'), ('ai', 'NN'), (\"'\", \"''\"), ('-', ':'), ('stay', 'NN'), ('tune', 'IN'), ('fun', 'JJ'), ('end', 'NN'), ('-', ':'), ('hint', 'NN'), (':', ':'), ('look', 'NN'), ('shoe', 'SYM'), ('-', ':'), ('#', '#'), ('tedatibm', 'NN')]\n",
      "[('watch', 'NN'), ('incred', 'VBD'), ('@', 'JJ'), ('tedtalk', 'NN'), ('ibm', 'NN'), ('scientist', 'NN'), ('@', 'NNP'), ('bmibruno', 'NN'), ('titl', 'NN'), (\"'how\", 'POS'), ('brain', 'NN'), ('keep', 'NN'), ('#', '#'), ('ai', 'NN'), (\"'\", \"''\"), ('-', ':'), ('stay', 'NN'), ('tune', 'IN'), ('fun', 'JJ'), ('end', 'NN'), ('-', ':'), ('hint', 'NN'), (':', ':'), ('look', 'NN'), ('shoe', 'SYM'), ('-', ':'), ('#', '#'), ('tedatibm', 'NN')]\n",
      "[('watch', 'NN'), ('incred', 'VBD'), ('@', 'JJ'), ('tedtalk', 'NN'), ('ibm', 'NN'), ('scientist', 'NN'), ('@', 'NNP'), ('bmibruno', 'NN'), ('titl', 'NN'), (\"'how\", 'POS'), ('brain', 'NN'), ('keep', 'NN'), ('#', '#'), ('ai', 'NN'), (\"'\", \"''\"), ('-', ':'), ('stay', 'NN'), ('tune', 'IN'), ('fun', 'JJ'), ('end', 'NN'), ('-', ':'), ('hint', 'NN'), (':', ':'), ('look', 'NN'), ('shoe', 'SYM'), ('-', ':'), ('#', '#'), ('tedatibm', 'NN')]\n",
      "[('watch', 'NN'), ('incred', 'VBD'), ('@', 'JJ'), ('tedtalk', 'NN'), ('ibm', 'NN'), ('scientist', 'NN'), ('@', 'NNP'), ('bmibruno', 'NN'), ('titl', 'NN'), (\"'how\", 'POS'), ('brain', 'NN'), ('keep', 'NN'), ('#', '#'), ('ai', 'NN'), (\"'\", \"''\"), ('-', ':'), ('stay', 'NN'), ('tune', 'IN'), ('fun', 'JJ'), ('end', 'NN'), ('-', ':'), ('hint', 'NN'), (':', ':'), ('look', 'NN'), ('shoe', 'SYM'), ('-', ':'), ('#', '#'), ('tedatibm', 'NN')]\n",
      "[('watch', 'NN'), ('incred', 'VBD'), ('@', 'JJ'), ('tedtalk', 'NN'), ('ibm', 'NN'), ('scientist', 'NN'), ('@', 'NNP'), ('bmibruno', 'NN'), ('titl', 'NN'), (\"'how\", 'POS'), ('brain', 'NN'), ('keep', 'NN'), ('#', '#'), ('ai', 'NN'), (\"'\", \"''\"), ('-', ':'), ('stay', 'NN'), ('tune', 'IN'), ('fun', 'JJ'), ('end', 'NN'), ('-', ':'), ('hint', 'NN'), (':', ':'), ('look', 'NN'), ('shoe', 'SYM'), ('-', ':'), ('#', '#'), ('tedatibm', 'NN')]\n",
      "[('watch', 'NN'), ('incred', 'VBD'), ('@', 'JJ'), ('tedtalk', 'NN'), ('ibm', 'NN'), ('scientist', 'NN'), ('@', 'NNP'), ('bmibruno', 'NN'), ('titl', 'NN'), (\"'how\", 'POS'), ('brain', 'NN'), ('keep', 'NN'), ('#', '#'), ('ai', 'NN'), (\"'\", \"''\"), ('-', ':'), ('stay', 'NN'), ('tune', 'IN'), ('fun', 'JJ'), ('end', 'NN'), ('-', ':'), ('hint', 'NN'), (':', ':'), ('look', 'NN'), ('shoe', 'SYM'), ('-', ':'), ('#', '#'), ('tedatibm', 'NN')]\n",
      "[('watch', 'NN'), ('incred', 'VBD'), ('@', 'JJ'), ('tedtalk', 'NN'), ('ibm', 'NN'), ('scientist', 'NN'), ('@', 'NNP'), ('bmibruno', 'NN'), ('titl', 'NN'), (\"'how\", 'POS'), ('brain', 'NN'), ('keep', 'NN'), ('#', '#'), ('ai', 'NN'), (\"'\", \"''\"), ('-', ':'), ('stay', 'NN'), ('tune', 'IN'), ('fun', 'JJ'), ('end', 'NN'), ('-', ':'), ('hint', 'NN'), (':', ':'), ('look', 'NN'), ('shoe', 'SYM'), ('-', ':'), ('#', '#'), ('tedatibm', 'NN')]\n",
      "[('watch', 'NN'), ('incred', 'VBD'), ('@', 'JJ'), ('tedtalk', 'NN'), ('ibm', 'NN'), ('scientist', 'NN'), ('@', 'NNP'), ('bmibruno', 'NN'), ('titl', 'NN'), (\"'how\", 'POS'), ('brain', 'NN'), ('keep', 'NN'), ('#', '#'), ('ai', 'NN'), (\"'\", \"''\"), ('-', ':'), ('stay', 'NN'), ('tune', 'IN'), ('fun', 'JJ'), ('end', 'NN'), ('-', ':'), ('hint', 'NN'), (':', ':'), ('look', 'NN'), ('shoe', 'SYM'), ('-', ':'), ('#', '#'), ('tedatibm', 'NN')]\n",
      "[('watch', 'NN'), ('incred', 'VBD'), ('@', 'JJ'), ('tedtalk', 'NN'), ('ibm', 'NN'), ('scientist', 'NN'), ('@', 'NNP'), ('bmibruno', 'NN'), ('titl', 'NN'), (\"'how\", 'POS'), ('brain', 'NN'), ('keep', 'NN'), ('#', '#'), ('ai', 'NN'), (\"'\", \"''\"), ('-', ':'), ('stay', 'NN'), ('tune', 'IN'), ('fun', 'JJ'), ('end', 'NN'), ('-', ':'), ('hint', 'NN'), (':', ':'), ('look', 'NN'), ('shoe', 'SYM'), ('-', ':'), ('#', '#'), ('tedatibm', 'NN')]\n",
      "[('watch', 'NN'), ('incred', 'VBD'), ('@', 'JJ'), ('tedtalk', 'NN'), ('ibm', 'NN'), ('scientist', 'NN'), ('@', 'NNP'), ('bmibruno', 'NN'), ('titl', 'NN'), (\"'how\", 'POS'), ('brain', 'NN'), ('keep', 'NN'), ('#', '#'), ('ai', 'NN'), (\"'\", \"''\"), ('-', ':'), ('stay', 'NN'), ('tune', 'IN'), ('fun', 'JJ'), ('end', 'NN'), ('-', ':'), ('hint', 'NN'), (':', ':'), ('look', 'NN'), ('shoe', 'SYM'), ('-', ':'), ('#', '#'), ('tedatibm', 'NN')]\n",
      "[('watch', 'NN'), ('incred', 'VBD'), ('@', 'JJ'), ('tedtalk', 'NN'), ('ibm', 'NN'), ('scientist', 'NN'), ('@', 'NNP'), ('bmibruno', 'NN'), ('titl', 'NN'), (\"'how\", 'POS'), ('brain', 'NN'), ('keep', 'NN'), ('#', '#'), ('ai', 'NN'), (\"'\", \"''\"), ('-', ':'), ('stay', 'NN'), ('tune', 'IN'), ('fun', 'JJ'), ('end', 'NN'), ('-', ':'), ('hint', 'NN'), (':', ':'), ('look', 'NN'), ('shoe', 'SYM'), ('-', ':'), ('#', '#'), ('tedatibm', 'NN')]\n",
      "[('watch', 'NN'), ('incred', 'VBD'), ('@', 'JJ'), ('tedtalk', 'NN'), ('ibm', 'NN'), ('scientist', 'NN'), ('@', 'NNP'), ('bmibruno', 'NN'), ('titl', 'NN'), (\"'how\", 'POS'), ('brain', 'NN'), ('keep', 'NN'), ('#', '#'), ('ai', 'NN'), (\"'\", \"''\"), ('-', ':'), ('stay', 'NN'), ('tune', 'IN'), ('fun', 'JJ'), ('end', 'NN'), ('-', ':'), ('hint', 'NN'), (':', ':'), ('look', 'NN'), ('shoe', 'SYM'), ('-', ':'), ('#', '#'), ('tedatibm', 'NN')]\n",
      "[('watch', 'NN'), ('incred', 'VBD'), ('@', 'JJ'), ('tedtalk', 'NN'), ('ibm', 'NN'), ('scientist', 'NN'), ('@', 'NNP'), ('bmibruno', 'NN'), ('titl', 'NN'), (\"'how\", 'POS'), ('brain', 'NN'), ('keep', 'NN'), ('#', '#'), ('ai', 'NN'), (\"'\", \"''\"), ('-', ':'), ('stay', 'NN'), ('tune', 'IN'), ('fun', 'JJ'), ('end', 'NN'), ('-', ':'), ('hint', 'NN'), (':', ':'), ('look', 'NN'), ('shoe', 'SYM'), ('-', ':'), ('#', '#'), ('tedatibm', 'NN')]\n",
      "[('watch', 'NN'), ('incred', 'VBD'), ('@', 'JJ'), ('tedtalk', 'NN'), ('ibm', 'NN'), ('scientist', 'NN'), ('@', 'NNP'), ('bmibruno', 'NN'), ('titl', 'NN'), (\"'how\", 'POS'), ('brain', 'NN'), ('keep', 'NN'), ('#', '#'), ('ai', 'NN'), (\"'\", \"''\"), ('-', ':'), ('stay', 'NN'), ('tune', 'IN'), ('fun', 'JJ'), ('end', 'NN'), ('-', ':'), ('hint', 'NN'), (':', ':'), ('look', 'NN'), ('shoe', 'SYM'), ('-', ':'), ('#', '#'), ('tedatibm', 'NN')]\n",
      "[('watch', 'NN'), ('incred', 'VBD'), ('@', 'JJ'), ('tedtalk', 'NN'), ('ibm', 'NN'), ('scientist', 'NN'), ('@', 'NNP'), ('bmibruno', 'NN'), ('titl', 'NN'), (\"'how\", 'POS'), ('brain', 'NN'), ('keep', 'NN'), ('#', '#'), ('ai', 'NN'), (\"'\", \"''\"), ('-', ':'), ('stay', 'NN'), ('tune', 'IN'), ('fun', 'JJ'), ('end', 'NN'), ('-', ':'), ('hint', 'NN'), (':', ':'), ('look', 'NN'), ('shoe', 'SYM'), ('-', ':'), ('#', '#'), ('tedatibm', 'NN')]\n",
      "[('watch', 'NN'), ('incred', 'VBD'), ('@', 'JJ'), ('tedtalk', 'NN'), ('ibm', 'NN'), ('scientist', 'NN'), ('@', 'NNP'), ('bmibruno', 'NN'), ('titl', 'NN'), (\"'how\", 'POS'), ('brain', 'NN'), ('keep', 'NN'), ('#', '#'), ('ai', 'NN'), (\"'\", \"''\"), ('-', ':'), ('stay', 'NN'), ('tune', 'IN'), ('fun', 'JJ'), ('end', 'NN'), ('-', ':'), ('hint', 'NN'), (':', ':'), ('look', 'NN'), ('shoe', 'SYM'), ('-', ':'), ('#', '#'), ('tedatibm', 'NN')]\n",
      "[('watch', 'NN'), ('incred', 'VBD'), ('@', 'JJ'), ('tedtalk', 'NN'), ('ibm', 'NN'), ('scientist', 'NN'), ('@', 'NNP'), ('bmibruno', 'NN'), ('titl', 'NN'), (\"'how\", 'POS'), ('brain', 'NN'), ('keep', 'NN'), ('#', '#'), ('ai', 'NN'), (\"'\", \"''\"), ('-', ':'), ('stay', 'NN'), ('tune', 'IN'), ('fun', 'JJ'), ('end', 'NN'), ('-', ':'), ('hint', 'NN'), (':', ':'), ('look', 'NN'), ('shoe', 'SYM'), ('-', ':'), ('#', '#'), ('tedatibm', 'NN')]\n",
      "[('watch', 'NN'), ('incred', 'VBD'), ('@', 'JJ'), ('tedtalk', 'NN'), ('ibm', 'NN'), ('scientist', 'NN'), ('@', 'NNP'), ('bmibruno', 'NN'), ('titl', 'NN'), (\"'how\", 'POS'), ('brain', 'NN'), ('keep', 'NN'), ('#', '#'), ('ai', 'NN'), (\"'\", \"''\"), ('-', ':'), ('stay', 'NN'), ('tune', 'IN'), ('fun', 'JJ'), ('end', 'NN'), ('-', ':'), ('hint', 'NN'), (':', ':'), ('look', 'NN'), ('shoe', 'SYM'), ('-', ':'), ('#', '#'), ('tedatibm', 'NN')]\n",
      "[('watch', 'NN'), ('incred', 'VBD'), ('@', 'JJ'), ('tedtalk', 'NN'), ('ibm', 'NN'), ('scientist', 'NN'), ('@', 'NNP'), ('bmibruno', 'NN'), ('titl', 'NN'), (\"'how\", 'POS'), ('brain', 'NN'), ('keep', 'NN'), ('#', '#'), ('ai', 'NN'), (\"'\", \"''\"), ('-', ':'), ('stay', 'NN'), ('tune', 'IN'), ('fun', 'JJ'), ('end', 'NN'), ('-', ':'), ('hint', 'NN'), (':', ':'), ('look', 'NN'), ('shoe', 'SYM'), ('-', ':'), ('#', '#'), ('tedatibm', 'NN')]\n",
      "[('watch', 'NN'), ('incred', 'VBD'), ('@', 'JJ'), ('tedtalk', 'NN'), ('ibm', 'NN'), ('scientist', 'NN'), ('@', 'NNP'), ('bmibruno', 'NN'), ('titl', 'NN'), (\"'how\", 'POS'), ('brain', 'NN'), ('keep', 'NN'), ('#', '#'), ('ai', 'NN'), (\"'\", \"''\"), ('-', ':'), ('stay', 'NN'), ('tune', 'IN'), ('fun', 'JJ'), ('end', 'NN'), ('-', ':'), ('hint', 'NN'), (':', ':'), ('look', 'NN'), ('shoe', 'SYM'), ('-', ':'), ('#', '#'), ('tedatibm', 'NN')]\n",
      "[('watch', 'NN'), ('incred', 'VBD'), ('@', 'JJ'), ('tedtalk', 'NN'), ('ibm', 'NN'), ('scientist', 'NN'), ('@', 'NNP'), ('bmibruno', 'NN'), ('titl', 'NN'), (\"'how\", 'POS'), ('brain', 'NN'), ('keep', 'NN'), ('#', '#'), ('ai', 'NN'), (\"'\", \"''\"), ('-', ':'), ('stay', 'NN'), ('tune', 'IN'), ('fun', 'JJ'), ('end', 'NN'), ('-', ':'), ('hint', 'NN'), (':', ':'), ('look', 'NN'), ('shoe', 'SYM'), ('-', ':'), ('#', '#'), ('tedatibm', 'NN')]\n",
      "[('watch', 'NN'), ('incred', 'VBD'), ('@', 'JJ'), ('tedtalk', 'NN'), ('ibm', 'NN'), ('scientist', 'NN'), ('@', 'NNP'), ('bmibruno', 'NN'), ('titl', 'NN'), (\"'how\", 'POS'), ('brain', 'NN'), ('keep', 'NN'), ('#', '#'), ('ai', 'NN'), (\"'\", \"''\"), ('-', ':'), ('stay', 'NN'), ('tune', 'IN'), ('fun', 'JJ'), ('end', 'NN'), ('-', ':'), ('hint', 'NN'), (':', ':'), ('look', 'NN'), ('shoe', 'SYM'), ('-', ':'), ('#', '#'), ('tedatibm', 'NN')]\n",
      "[('watch', 'NN'), ('incred', 'VBD'), ('@', 'JJ'), ('tedtalk', 'NN'), ('ibm', 'NN'), ('scientist', 'NN'), ('@', 'NNP'), ('bmibruno', 'NN'), ('titl', 'NN'), (\"'how\", 'POS'), ('brain', 'NN'), ('keep', 'NN'), ('#', '#'), ('ai', 'NN'), (\"'\", \"''\"), ('-', ':'), ('stay', 'NN'), ('tune', 'IN'), ('fun', 'JJ'), ('end', 'NN'), ('-', ':'), ('hint', 'NN'), (':', ':'), ('look', 'NN'), ('shoe', 'SYM'), ('-', ':'), ('#', '#'), ('tedatibm', 'NN')]\n",
      "[('watch', 'NN'), ('incred', 'VBD'), ('@', 'JJ'), ('tedtalk', 'NN'), ('ibm', 'NN'), ('scientist', 'NN'), ('@', 'NNP'), ('bmibruno', 'NN'), ('titl', 'NN'), (\"'how\", 'POS'), ('brain', 'NN'), ('keep', 'NN'), ('#', '#'), ('ai', 'NN'), (\"'\", \"''\"), ('-', ':'), ('stay', 'NN'), ('tune', 'IN'), ('fun', 'JJ'), ('end', 'NN'), ('-', ':'), ('hint', 'NN'), (':', ':'), ('look', 'NN'), ('shoe', 'SYM'), ('-', ':'), ('#', '#'), ('tedatibm', 'NN')]\n",
      "[('watch', 'NN'), ('incred', 'VBD'), ('@', 'JJ'), ('tedtalk', 'NN'), ('ibm', 'NN'), ('scientist', 'NN'), ('@', 'NNP'), ('bmibruno', 'NN'), ('titl', 'NN'), (\"'how\", 'POS'), ('brain', 'NN'), ('keep', 'NN'), ('#', '#'), ('ai', 'NN'), (\"'\", \"''\"), ('-', ':'), ('stay', 'NN'), ('tune', 'IN'), ('fun', 'JJ'), ('end', 'NN'), ('-', ':'), ('hint', 'NN'), (':', ':'), ('look', 'NN'), ('shoe', 'SYM'), ('-', ':'), ('#', '#'), ('tedatibm', 'NN')]\n",
      "[('watch', 'NN'), ('incred', 'VBD'), ('@', 'JJ'), ('tedtalk', 'NN'), ('ibm', 'NN'), ('scientist', 'NN'), ('@', 'NNP'), ('bmibruno', 'NN'), ('titl', 'NN'), (\"'how\", 'POS'), ('brain', 'NN'), ('keep', 'NN'), ('#', '#'), ('ai', 'NN'), (\"'\", \"''\"), ('-', ':'), ('stay', 'NN'), ('tune', 'IN'), ('fun', 'JJ'), ('end', 'NN'), ('-', ':'), ('hint', 'NN'), (':', ':'), ('look', 'NN'), ('shoe', 'SYM'), ('-', ':'), ('#', '#'), ('tedatibm', 'NN')]\n",
      "[('watch', 'NN'), ('incred', 'VBD'), ('@', 'JJ'), ('tedtalk', 'NN'), ('ibm', 'NN'), ('scientist', 'NN'), ('@', 'NNP'), ('bmibruno', 'NN'), ('titl', 'NN'), (\"'how\", 'POS'), ('brain', 'NN'), ('keep', 'NN'), ('#', '#'), ('ai', 'NN'), (\"'\", \"''\"), ('-', ':'), ('stay', 'NN'), ('tune', 'IN'), ('fun', 'JJ'), ('end', 'NN'), ('-', ':'), ('hint', 'NN'), (':', ':'), ('look', 'NN'), ('shoe', 'SYM'), ('-', ':'), ('#', '#'), ('tedatibm', 'NN')]\n",
      "[('watch', 'NN'), ('incred', 'VBD'), ('@', 'JJ'), ('tedtalk', 'NN'), ('ibm', 'NN'), ('scientist', 'NN'), ('@', 'NNP'), ('bmibruno', 'NN'), ('titl', 'NN'), (\"'how\", 'POS'), ('brain', 'NN'), ('keep', 'NN'), ('#', '#'), ('ai', 'NN'), (\"'\", \"''\"), ('-', ':'), ('stay', 'NN'), ('tune', 'IN'), ('fun', 'JJ'), ('end', 'NN'), ('-', ':'), ('hint', 'NN'), (':', ':'), ('look', 'NN'), ('shoe', 'SYM'), ('-', ':'), ('#', '#'), ('tedatibm', 'NN')]\n",
      "[('watch', 'NN'), ('incred', 'VBD'), ('@', 'JJ'), ('tedtalk', 'NN'), ('ibm', 'NN'), ('scientist', 'NN'), ('@', 'NNP'), ('bmibruno', 'NN'), ('titl', 'NN'), (\"'how\", 'POS'), ('brain', 'NN'), ('keep', 'NN'), ('#', '#'), ('ai', 'NN'), (\"'\", \"''\"), ('-', ':'), ('stay', 'NN'), ('tune', 'IN'), ('fun', 'JJ'), ('end', 'NN'), ('-', ':'), ('hint', 'NN'), (':', ':'), ('look', 'NN'), ('shoe', 'SYM'), ('-', ':'), ('#', '#'), ('tedatibm', 'NN')]\n",
      "[('watch', 'NN'), ('incred', 'VBD'), ('@', 'JJ'), ('tedtalk', 'NN'), ('ibm', 'NN'), ('scientist', 'NN'), ('@', 'NNP'), ('bmibruno', 'NN'), ('titl', 'NN'), (\"'how\", 'POS'), ('brain', 'NN'), ('keep', 'NN'), ('#', '#'), ('ai', 'NN'), (\"'\", \"''\"), ('-', ':'), ('stay', 'NN'), ('tune', 'IN'), ('fun', 'JJ'), ('end', 'NN'), ('-', ':'), ('hint', 'NN'), (':', ':'), ('look', 'NN'), ('shoe', 'SYM'), ('-', ':'), ('#', '#'), ('tedatibm', 'NN')]\n",
      "[('watch', 'NN'), ('incred', 'VBD'), ('@', 'JJ'), ('tedtalk', 'NN'), ('ibm', 'NN'), ('scientist', 'NN'), ('@', 'NNP'), ('bmibruno', 'NN'), ('titl', 'NN'), (\"'how\", 'POS'), ('brain', 'NN'), ('keep', 'NN'), ('#', '#'), ('ai', 'NN'), (\"'\", \"''\"), ('-', ':'), ('stay', 'NN'), ('tune', 'IN'), ('fun', 'JJ'), ('end', 'NN'), ('-', ':'), ('hint', 'NN'), (':', ':'), ('look', 'NN'), ('shoe', 'SYM'), ('-', ':'), ('#', '#'), ('tedatibm', 'NN')]\n",
      "[('watch', 'NN'), ('incred', 'VBD'), ('@', 'JJ'), ('tedtalk', 'NN'), ('ibm', 'NN'), ('scientist', 'NN'), ('@', 'NNP'), ('bmibruno', 'NN'), ('titl', 'NN'), (\"'how\", 'POS'), ('brain', 'NN'), ('keep', 'NN'), ('#', '#'), ('ai', 'NN'), (\"'\", \"''\"), ('-', ':'), ('stay', 'NN'), ('tune', 'IN'), ('fun', 'JJ'), ('end', 'NN'), ('-', ':'), ('hint', 'NN'), (':', ':'), ('look', 'NN'), ('shoe', 'SYM'), ('-', ':'), ('#', '#'), ('tedatibm', 'NN')]\n",
      "[('watch', 'NN'), ('incred', 'VBD'), ('@', 'JJ'), ('tedtalk', 'NN'), ('ibm', 'NN'), ('scientist', 'NN'), ('@', 'NNP'), ('bmibruno', 'NN'), ('titl', 'NN'), (\"'how\", 'POS'), ('brain', 'NN'), ('keep', 'NN'), ('#', '#'), ('ai', 'NN'), (\"'\", \"''\"), ('-', ':'), ('stay', 'NN'), ('tune', 'IN'), ('fun', 'JJ'), ('end', 'NN'), ('-', ':'), ('hint', 'NN'), (':', ':'), ('look', 'NN'), ('shoe', 'SYM'), ('-', ':'), ('#', '#'), ('tedatibm', 'NN')]\n",
      "[('watch', 'NN'), ('incred', 'VBD'), ('@', 'JJ'), ('tedtalk', 'NN'), ('ibm', 'NN'), ('scientist', 'NN'), ('@', 'NNP'), ('bmibruno', 'NN'), ('titl', 'NN'), (\"'how\", 'POS'), ('brain', 'NN'), ('keep', 'NN'), ('#', '#'), ('ai', 'NN'), (\"'\", \"''\"), ('-', ':'), ('stay', 'NN'), ('tune', 'IN'), ('fun', 'JJ'), ('end', 'NN'), ('-', ':'), ('hint', 'NN'), (':', ':'), ('look', 'NN'), ('shoe', 'SYM'), ('-', ':'), ('#', '#'), ('tedatibm', 'NN')]\n",
      "[('watch', 'NN'), ('incred', 'VBD'), ('@', 'JJ'), ('tedtalk', 'NN'), ('ibm', 'NN'), ('scientist', 'NN'), ('@', 'NNP'), ('bmibruno', 'NN'), ('titl', 'NN'), (\"'how\", 'POS'), ('brain', 'NN'), ('keep', 'NN'), ('#', '#'), ('ai', 'NN'), (\"'\", \"''\"), ('-', ':'), ('stay', 'NN'), ('tune', 'IN'), ('fun', 'JJ'), ('end', 'NN'), ('-', ':'), ('hint', 'NN'), (':', ':'), ('look', 'NN'), ('shoe', 'SYM'), ('-', ':'), ('#', '#'), ('tedatibm', 'NN')]\n",
      "[('watch', 'NN'), ('incred', 'VBD'), ('@', 'JJ'), ('tedtalk', 'NN'), ('ibm', 'NN'), ('scientist', 'NN'), ('@', 'NNP'), ('bmibruno', 'NN'), ('titl', 'NN'), (\"'how\", 'POS'), ('brain', 'NN'), ('keep', 'NN'), ('#', '#'), ('ai', 'NN'), (\"'\", \"''\"), ('-', ':'), ('stay', 'NN'), ('tune', 'IN'), ('fun', 'JJ'), ('end', 'NN'), ('-', ':'), ('hint', 'NN'), (':', ':'), ('look', 'NN'), ('shoe', 'SYM'), ('-', ':'), ('#', '#'), ('tedatibm', 'NN')]\n",
      "[('watch', 'NN'), ('incred', 'VBD'), ('@', 'JJ'), ('tedtalk', 'NN'), ('ibm', 'NN'), ('scientist', 'NN'), ('@', 'NNP'), ('bmibruno', 'NN'), ('titl', 'NN'), (\"'how\", 'POS'), ('brain', 'NN'), ('keep', 'NN'), ('#', '#'), ('ai', 'NN'), (\"'\", \"''\"), ('-', ':'), ('stay', 'NN'), ('tune', 'IN'), ('fun', 'JJ'), ('end', 'NN'), ('-', ':'), ('hint', 'NN'), (':', ':'), ('look', 'NN'), ('shoe', 'SYM'), ('-', ':'), ('#', '#'), ('tedatibm', 'NN')]\n",
      "[('watch', 'NN'), ('incred', 'VBD'), ('@', 'JJ'), ('tedtalk', 'NN'), ('ibm', 'NN'), ('scientist', 'NN'), ('@', 'NNP'), ('bmibruno', 'NN'), ('titl', 'NN'), (\"'how\", 'POS'), ('brain', 'NN'), ('keep', 'NN'), ('#', '#'), ('ai', 'NN'), (\"'\", \"''\"), ('-', ':'), ('stay', 'NN'), ('tune', 'IN'), ('fun', 'JJ'), ('end', 'NN'), ('-', ':'), ('hint', 'NN'), (':', ':'), ('look', 'NN'), ('shoe', 'SYM'), ('-', ':'), ('#', '#'), ('tedatibm', 'NN')]\n",
      "[('watch', 'NN'), ('incred', 'VBD'), ('@', 'JJ'), ('tedtalk', 'NN'), ('ibm', 'NN'), ('scientist', 'NN'), ('@', 'NNP'), ('bmibruno', 'NN'), ('titl', 'NN'), (\"'how\", 'POS'), ('brain', 'NN'), ('keep', 'NN'), ('#', '#'), ('ai', 'NN'), (\"'\", \"''\"), ('-', ':'), ('stay', 'NN'), ('tune', 'IN'), ('fun', 'JJ'), ('end', 'NN'), ('-', ':'), ('hint', 'NN'), (':', ':'), ('look', 'NN'), ('shoe', 'SYM'), ('-', ':'), ('#', '#'), ('tedatibm', 'NN')]\n",
      "[('watch', 'NN'), ('incred', 'VBD'), ('@', 'JJ'), ('tedtalk', 'NN'), ('ibm', 'NN'), ('scientist', 'NN'), ('@', 'NNP'), ('bmibruno', 'NN'), ('titl', 'NN'), (\"'how\", 'POS'), ('brain', 'NN'), ('keep', 'NN'), ('#', '#'), ('ai', 'NN'), (\"'\", \"''\"), ('-', ':'), ('stay', 'NN'), ('tune', 'IN'), ('fun', 'JJ'), ('end', 'NN'), ('-', ':'), ('hint', 'NN'), (':', ':'), ('look', 'NN'), ('shoe', 'SYM'), ('-', ':'), ('#', '#'), ('tedatibm', 'NN')]\n",
      "[('watch', 'NN'), ('incred', 'VBD'), ('@', 'JJ'), ('tedtalk', 'NN'), ('ibm', 'NN'), ('scientist', 'NN'), ('@', 'NNP'), ('bmibruno', 'NN'), ('titl', 'NN'), (\"'how\", 'POS'), ('brain', 'NN'), ('keep', 'NN'), ('#', '#'), ('ai', 'NN'), (\"'\", \"''\"), ('-', ':'), ('stay', 'NN'), ('tune', 'IN'), ('fun', 'JJ'), ('end', 'NN'), ('-', ':'), ('hint', 'NN'), (':', ':'), ('look', 'NN'), ('shoe', 'SYM'), ('-', ':'), ('#', '#'), ('tedatibm', 'NN')]\n"
     ]
    }
   ],
   "source": [
    "for doc in col.find():\n",
    "    if 'text' in doc:\n",
    "        final_res = preprocess(doc['text'])\n",
    "        print(final_res)"
   ]
  },
  {
   "cell_type": "code",
   "execution_count": 80,
   "id": "4e2207e8-4684-4307-aa59-525df205dfc5",
   "metadata": {
    "scrolled": true
   },
   "outputs": [
    {
     "name": "stdout",
     "output_type": "stream",
     "text": [
      "[('watch', 'NN'), ('incred', 'VBD'), ('@', 'JJ'), ('tedtalk', 'NN'), ('ibm', 'NN'), ('scientist', 'NN'), ('@', 'NNP'), ('bmibruno', 'NN'), ('titl', 'NN'), (\"'how\", 'POS'), ('brain', 'NN'), ('keep', 'NN'), ('#', '#'), ('ai', 'NN'), (\"'\", \"''\"), ('-', ':'), ('stay', 'NN'), ('tune', 'IN'), ('fun', 'JJ'), ('end', 'NN'), ('-', ':'), ('hint', 'NN'), (':', ':'), ('look', 'NN'), ('shoe', 'SYM'), ('-', ':'), ('#', '#'), ('tedatibm', 'NN')]\n",
      "[('watch', 'NN'), ('incred', 'VBD'), ('@', 'JJ'), ('tedtalk', 'NN'), ('ibm', 'NN'), ('scientist', 'NN'), ('@', 'NNP'), ('bmibruno', 'NN'), ('titl', 'NN'), (\"'how\", 'POS'), ('brain', 'NN'), ('keep', 'NN'), ('#', '#'), ('ai', 'NN'), (\"'\", \"''\"), ('-', ':'), ('stay', 'NN'), ('tune', 'IN'), ('fun', 'JJ'), ('end', 'NN'), ('-', ':'), ('hint', 'NN'), (':', ':'), ('look', 'NN'), ('shoe', 'SYM'), ('-', ':'), ('#', '#'), ('tedatibm', 'NN')]\n",
      "[('watch', 'NN'), ('incred', 'VBD'), ('@', 'JJ'), ('tedtalk', 'NN'), ('ibm', 'NN'), ('scientist', 'NN'), ('@', 'NNP'), ('bmibruno', 'NN'), ('titl', 'NN'), (\"'how\", 'POS'), ('brain', 'NN'), ('keep', 'NN'), ('#', '#'), ('ai', 'NN'), (\"'\", \"''\"), ('-', ':'), ('stay', 'NN'), ('tune', 'IN'), ('fun', 'JJ'), ('end', 'NN'), ('-', ':'), ('hint', 'NN'), (':', ':'), ('look', 'NN'), ('shoe', 'SYM'), ('-', ':'), ('#', '#'), ('tedatibm', 'NN')]\n",
      "[('watch', 'NN'), ('incred', 'VBD'), ('@', 'JJ'), ('tedtalk', 'NN'), ('ibm', 'NN'), ('scientist', 'NN'), ('@', 'NNP'), ('bmibruno', 'NN'), ('titl', 'NN'), (\"'how\", 'POS'), ('brain', 'NN'), ('keep', 'NN'), ('#', '#'), ('ai', 'NN'), (\"'\", \"''\"), ('-', ':'), ('stay', 'NN'), ('tune', 'IN'), ('fun', 'JJ'), ('end', 'NN'), ('-', ':'), ('hint', 'NN'), (':', ':'), ('look', 'NN'), ('shoe', 'SYM'), ('-', ':'), ('#', '#'), ('tedatibm', 'NN')]\n",
      "[('watch', 'NN'), ('incred', 'VBD'), ('@', 'JJ'), ('tedtalk', 'NN'), ('ibm', 'NN'), ('scientist', 'NN'), ('@', 'NNP'), ('bmibruno', 'NN'), ('titl', 'NN'), (\"'how\", 'POS'), ('brain', 'NN'), ('keep', 'NN'), ('#', '#'), ('ai', 'NN'), (\"'\", \"''\"), ('-', ':'), ('stay', 'NN'), ('tune', 'IN'), ('fun', 'JJ'), ('end', 'NN'), ('-', ':'), ('hint', 'NN'), (':', ':'), ('look', 'NN'), ('shoe', 'SYM'), ('-', ':'), ('#', '#'), ('tedatibm', 'NN')]\n",
      "[('watch', 'NN'), ('incred', 'VBD'), ('@', 'JJ'), ('tedtalk', 'NN'), ('ibm', 'NN'), ('scientist', 'NN'), ('@', 'NNP'), ('bmibruno', 'NN'), ('titl', 'NN'), (\"'how\", 'POS'), ('brain', 'NN'), ('keep', 'NN'), ('#', '#'), ('ai', 'NN'), (\"'\", \"''\"), ('-', ':'), ('stay', 'NN'), ('tune', 'IN'), ('fun', 'JJ'), ('end', 'NN'), ('-', ':'), ('hint', 'NN'), (':', ':'), ('look', 'NN'), ('shoe', 'SYM'), ('-', ':'), ('#', '#'), ('tedatibm', 'NN')]\n",
      "[('watch', 'NN'), ('incred', 'VBD'), ('@', 'JJ'), ('tedtalk', 'NN'), ('ibm', 'NN'), ('scientist', 'NN'), ('@', 'NNP'), ('bmibruno', 'NN'), ('titl', 'NN'), (\"'how\", 'POS'), ('brain', 'NN'), ('keep', 'NN'), ('#', '#'), ('ai', 'NN'), (\"'\", \"''\"), ('-', ':'), ('stay', 'NN'), ('tune', 'IN'), ('fun', 'JJ'), ('end', 'NN'), ('-', ':'), ('hint', 'NN'), (':', ':'), ('look', 'NN'), ('shoe', 'SYM'), ('-', ':'), ('#', '#'), ('tedatibm', 'NN')]\n",
      "[('watch', 'NN'), ('incred', 'VBD'), ('@', 'JJ'), ('tedtalk', 'NN'), ('ibm', 'NN'), ('scientist', 'NN'), ('@', 'NNP'), ('bmibruno', 'NN'), ('titl', 'NN'), (\"'how\", 'POS'), ('brain', 'NN'), ('keep', 'NN'), ('#', '#'), ('ai', 'NN'), (\"'\", \"''\"), ('-', ':'), ('stay', 'NN'), ('tune', 'IN'), ('fun', 'JJ'), ('end', 'NN'), ('-', ':'), ('hint', 'NN'), (':', ':'), ('look', 'NN'), ('shoe', 'SYM'), ('-', ':'), ('#', '#'), ('tedatibm', 'NN')]\n",
      "[('watch', 'NN'), ('incred', 'VBD'), ('@', 'JJ'), ('tedtalk', 'NN'), ('ibm', 'NN'), ('scientist', 'NN'), ('@', 'NNP'), ('bmibruno', 'NN'), ('titl', 'NN'), (\"'how\", 'POS'), ('brain', 'NN'), ('keep', 'NN'), ('#', '#'), ('ai', 'NN'), (\"'\", \"''\"), ('-', ':'), ('stay', 'NN'), ('tune', 'IN'), ('fun', 'JJ'), ('end', 'NN'), ('-', ':'), ('hint', 'NN'), (':', ':'), ('look', 'NN'), ('shoe', 'SYM'), ('-', ':'), ('#', '#'), ('tedatibm', 'NN')]\n",
      "[('watch', 'NN'), ('incred', 'VBD'), ('@', 'JJ'), ('tedtalk', 'NN'), ('ibm', 'NN'), ('scientist', 'NN'), ('@', 'NNP'), ('bmibruno', 'NN'), ('titl', 'NN'), (\"'how\", 'POS'), ('brain', 'NN'), ('keep', 'NN'), ('#', '#'), ('ai', 'NN'), (\"'\", \"''\"), ('-', ':'), ('stay', 'NN'), ('tune', 'IN'), ('fun', 'JJ'), ('end', 'NN'), ('-', ':'), ('hint', 'NN'), (':', ':'), ('look', 'NN'), ('shoe', 'SYM'), ('-', ':'), ('#', '#'), ('tedatibm', 'NN')]\n",
      "[('watch', 'NN'), ('incred', 'VBD'), ('@', 'JJ'), ('tedtalk', 'NN'), ('ibm', 'NN'), ('scientist', 'NN'), ('@', 'NNP'), ('bmibruno', 'NN'), ('titl', 'NN'), (\"'how\", 'POS'), ('brain', 'NN'), ('keep', 'NN'), ('#', '#'), ('ai', 'NN'), (\"'\", \"''\"), ('-', ':'), ('stay', 'NN'), ('tune', 'IN'), ('fun', 'JJ'), ('end', 'NN'), ('-', ':'), ('hint', 'NN'), (':', ':'), ('look', 'NN'), ('shoe', 'SYM'), ('-', ':'), ('#', '#'), ('tedatibm', 'NN')]\n",
      "[('watch', 'NN'), ('incred', 'VBD'), ('@', 'JJ'), ('tedtalk', 'NN'), ('ibm', 'NN'), ('scientist', 'NN'), ('@', 'NNP'), ('bmibruno', 'NN'), ('titl', 'NN'), (\"'how\", 'POS'), ('brain', 'NN'), ('keep', 'NN'), ('#', '#'), ('ai', 'NN'), (\"'\", \"''\"), ('-', ':'), ('stay', 'NN'), ('tune', 'IN'), ('fun', 'JJ'), ('end', 'NN'), ('-', ':'), ('hint', 'NN'), (':', ':'), ('look', 'NN'), ('shoe', 'SYM'), ('-', ':'), ('#', '#'), ('tedatibm', 'NN')]\n",
      "[('watch', 'NN'), ('incred', 'VBD'), ('@', 'JJ'), ('tedtalk', 'NN'), ('ibm', 'NN'), ('scientist', 'NN'), ('@', 'NNP'), ('bmibruno', 'NN'), ('titl', 'NN'), (\"'how\", 'POS'), ('brain', 'NN'), ('keep', 'NN'), ('#', '#'), ('ai', 'NN'), (\"'\", \"''\"), ('-', ':'), ('stay', 'NN'), ('tune', 'IN'), ('fun', 'JJ'), ('end', 'NN'), ('-', ':'), ('hint', 'NN'), (':', ':'), ('look', 'NN'), ('shoe', 'SYM'), ('-', ':'), ('#', '#'), ('tedatibm', 'NN')]\n",
      "[('watch', 'NN'), ('incred', 'VBD'), ('@', 'JJ'), ('tedtalk', 'NN'), ('ibm', 'NN'), ('scientist', 'NN'), ('@', 'NNP'), ('bmibruno', 'NN'), ('titl', 'NN'), (\"'how\", 'POS'), ('brain', 'NN'), ('keep', 'NN'), ('#', '#'), ('ai', 'NN'), (\"'\", \"''\"), ('-', ':'), ('stay', 'NN'), ('tune', 'IN'), ('fun', 'JJ'), ('end', 'NN'), ('-', ':'), ('hint', 'NN'), (':', ':'), ('look', 'NN'), ('shoe', 'SYM'), ('-', ':'), ('#', '#'), ('tedatibm', 'NN')]\n",
      "[('watch', 'NN'), ('incred', 'VBD'), ('@', 'JJ'), ('tedtalk', 'NN'), ('ibm', 'NN'), ('scientist', 'NN'), ('@', 'NNP'), ('bmibruno', 'NN'), ('titl', 'NN'), (\"'how\", 'POS'), ('brain', 'NN'), ('keep', 'NN'), ('#', '#'), ('ai', 'NN'), (\"'\", \"''\"), ('-', ':'), ('stay', 'NN'), ('tune', 'IN'), ('fun', 'JJ'), ('end', 'NN'), ('-', ':'), ('hint', 'NN'), (':', ':'), ('look', 'NN'), ('shoe', 'SYM'), ('-', ':'), ('#', '#'), ('tedatibm', 'NN')]\n",
      "[('watch', 'NN'), ('incred', 'VBD'), ('@', 'JJ'), ('tedtalk', 'NN'), ('ibm', 'NN'), ('scientist', 'NN'), ('@', 'NNP'), ('bmibruno', 'NN'), ('titl', 'NN'), (\"'how\", 'POS'), ('brain', 'NN'), ('keep', 'NN'), ('#', '#'), ('ai', 'NN'), (\"'\", \"''\"), ('-', ':'), ('stay', 'NN'), ('tune', 'IN'), ('fun', 'JJ'), ('end', 'NN'), ('-', ':'), ('hint', 'NN'), (':', ':'), ('look', 'NN'), ('shoe', 'SYM'), ('-', ':'), ('#', '#'), ('tedatibm', 'NN')]\n",
      "[('watch', 'NN'), ('incred', 'VBD'), ('@', 'JJ'), ('tedtalk', 'NN'), ('ibm', 'NN'), ('scientist', 'NN'), ('@', 'NNP'), ('bmibruno', 'NN'), ('titl', 'NN'), (\"'how\", 'POS'), ('brain', 'NN'), ('keep', 'NN'), ('#', '#'), ('ai', 'NN'), (\"'\", \"''\"), ('-', ':'), ('stay', 'NN'), ('tune', 'IN'), ('fun', 'JJ'), ('end', 'NN'), ('-', ':'), ('hint', 'NN'), (':', ':'), ('look', 'NN'), ('shoe', 'SYM'), ('-', ':'), ('#', '#'), ('tedatibm', 'NN')]\n",
      "[('watch', 'NN'), ('incred', 'VBD'), ('@', 'JJ'), ('tedtalk', 'NN'), ('ibm', 'NN'), ('scientist', 'NN'), ('@', 'NNP'), ('bmibruno', 'NN'), ('titl', 'NN'), (\"'how\", 'POS'), ('brain', 'NN'), ('keep', 'NN'), ('#', '#'), ('ai', 'NN'), (\"'\", \"''\"), ('-', ':'), ('stay', 'NN'), ('tune', 'IN'), ('fun', 'JJ'), ('end', 'NN'), ('-', ':'), ('hint', 'NN'), (':', ':'), ('look', 'NN'), ('shoe', 'SYM'), ('-', ':'), ('#', '#'), ('tedatibm', 'NN')]\n",
      "[('watch', 'NN'), ('incred', 'VBD'), ('@', 'JJ'), ('tedtalk', 'NN'), ('ibm', 'NN'), ('scientist', 'NN'), ('@', 'NNP'), ('bmibruno', 'NN'), ('titl', 'NN'), (\"'how\", 'POS'), ('brain', 'NN'), ('keep', 'NN'), ('#', '#'), ('ai', 'NN'), (\"'\", \"''\"), ('-', ':'), ('stay', 'NN'), ('tune', 'IN'), ('fun', 'JJ'), ('end', 'NN'), ('-', ':'), ('hint', 'NN'), (':', ':'), ('look', 'NN'), ('shoe', 'SYM'), ('-', ':'), ('#', '#'), ('tedatibm', 'NN')]\n",
      "[('watch', 'NN'), ('incred', 'VBD'), ('@', 'JJ'), ('tedtalk', 'NN'), ('ibm', 'NN'), ('scientist', 'NN'), ('@', 'NNP'), ('bmibruno', 'NN'), ('titl', 'NN'), (\"'how\", 'POS'), ('brain', 'NN'), ('keep', 'NN'), ('#', '#'), ('ai', 'NN'), (\"'\", \"''\"), ('-', ':'), ('stay', 'NN'), ('tune', 'IN'), ('fun', 'JJ'), ('end', 'NN'), ('-', ':'), ('hint', 'NN'), (':', ':'), ('look', 'NN'), ('shoe', 'SYM'), ('-', ':'), ('#', '#'), ('tedatibm', 'NN')]\n",
      "[('watch', 'NN'), ('incred', 'VBD'), ('@', 'JJ'), ('tedtalk', 'NN'), ('ibm', 'NN'), ('scientist', 'NN'), ('@', 'NNP'), ('bmibruno', 'NN'), ('titl', 'NN'), (\"'how\", 'POS'), ('brain', 'NN'), ('keep', 'NN'), ('#', '#'), ('ai', 'NN'), (\"'\", \"''\"), ('-', ':'), ('stay', 'NN'), ('tune', 'IN'), ('fun', 'JJ'), ('end', 'NN'), ('-', ':'), ('hint', 'NN'), (':', ':'), ('look', 'NN'), ('shoe', 'SYM'), ('-', ':'), ('#', '#'), ('tedatibm', 'NN')]\n",
      "[('watch', 'NN'), ('incred', 'VBD'), ('@', 'JJ'), ('tedtalk', 'NN'), ('ibm', 'NN'), ('scientist', 'NN'), ('@', 'NNP'), ('bmibruno', 'NN'), ('titl', 'NN'), (\"'how\", 'POS'), ('brain', 'NN'), ('keep', 'NN'), ('#', '#'), ('ai', 'NN'), (\"'\", \"''\"), ('-', ':'), ('stay', 'NN'), ('tune', 'IN'), ('fun', 'JJ'), ('end', 'NN'), ('-', ':'), ('hint', 'NN'), (':', ':'), ('look', 'NN'), ('shoe', 'SYM'), ('-', ':'), ('#', '#'), ('tedatibm', 'NN')]\n",
      "[('watch', 'NN'), ('incred', 'VBD'), ('@', 'JJ'), ('tedtalk', 'NN'), ('ibm', 'NN'), ('scientist', 'NN'), ('@', 'NNP'), ('bmibruno', 'NN'), ('titl', 'NN'), (\"'how\", 'POS'), ('brain', 'NN'), ('keep', 'NN'), ('#', '#'), ('ai', 'NN'), (\"'\", \"''\"), ('-', ':'), ('stay', 'NN'), ('tune', 'IN'), ('fun', 'JJ'), ('end', 'NN'), ('-', ':'), ('hint', 'NN'), (':', ':'), ('look', 'NN'), ('shoe', 'SYM'), ('-', ':'), ('#', '#'), ('tedatibm', 'NN')]\n",
      "[('watch', 'NN'), ('incred', 'VBD'), ('@', 'JJ'), ('tedtalk', 'NN'), ('ibm', 'NN'), ('scientist', 'NN'), ('@', 'NNP'), ('bmibruno', 'NN'), ('titl', 'NN'), (\"'how\", 'POS'), ('brain', 'NN'), ('keep', 'NN'), ('#', '#'), ('ai', 'NN'), (\"'\", \"''\"), ('-', ':'), ('stay', 'NN'), ('tune', 'IN'), ('fun', 'JJ'), ('end', 'NN'), ('-', ':'), ('hint', 'NN'), (':', ':'), ('look', 'NN'), ('shoe', 'SYM'), ('-', ':'), ('#', '#'), ('tedatibm', 'NN')]\n",
      "[('watch', 'NN'), ('incred', 'VBD'), ('@', 'JJ'), ('tedtalk', 'NN'), ('ibm', 'NN'), ('scientist', 'NN'), ('@', 'NNP'), ('bmibruno', 'NN'), ('titl', 'NN'), (\"'how\", 'POS'), ('brain', 'NN'), ('keep', 'NN'), ('#', '#'), ('ai', 'NN'), (\"'\", \"''\"), ('-', ':'), ('stay', 'NN'), ('tune', 'IN'), ('fun', 'JJ'), ('end', 'NN'), ('-', ':'), ('hint', 'NN'), (':', ':'), ('look', 'NN'), ('shoe', 'SYM'), ('-', ':'), ('#', '#'), ('tedatibm', 'NN')]\n",
      "[('watch', 'NN'), ('incred', 'VBD'), ('@', 'JJ'), ('tedtalk', 'NN'), ('ibm', 'NN'), ('scientist', 'NN'), ('@', 'NNP'), ('bmibruno', 'NN'), ('titl', 'NN'), (\"'how\", 'POS'), ('brain', 'NN'), ('keep', 'NN'), ('#', '#'), ('ai', 'NN'), (\"'\", \"''\"), ('-', ':'), ('stay', 'NN'), ('tune', 'IN'), ('fun', 'JJ'), ('end', 'NN'), ('-', ':'), ('hint', 'NN'), (':', ':'), ('look', 'NN'), ('shoe', 'SYM'), ('-', ':'), ('#', '#'), ('tedatibm', 'NN')]\n",
      "[('watch', 'NN'), ('incred', 'VBD'), ('@', 'JJ'), ('tedtalk', 'NN'), ('ibm', 'NN'), ('scientist', 'NN'), ('@', 'NNP'), ('bmibruno', 'NN'), ('titl', 'NN'), (\"'how\", 'POS'), ('brain', 'NN'), ('keep', 'NN'), ('#', '#'), ('ai', 'NN'), (\"'\", \"''\"), ('-', ':'), ('stay', 'NN'), ('tune', 'IN'), ('fun', 'JJ'), ('end', 'NN'), ('-', ':'), ('hint', 'NN'), (':', ':'), ('look', 'NN'), ('shoe', 'SYM'), ('-', ':'), ('#', '#'), ('tedatibm', 'NN')]\n",
      "[('watch', 'NN'), ('incred', 'VBD'), ('@', 'JJ'), ('tedtalk', 'NN'), ('ibm', 'NN'), ('scientist', 'NN'), ('@', 'NNP'), ('bmibruno', 'NN'), ('titl', 'NN'), (\"'how\", 'POS'), ('brain', 'NN'), ('keep', 'NN'), ('#', '#'), ('ai', 'NN'), (\"'\", \"''\"), ('-', ':'), ('stay', 'NN'), ('tune', 'IN'), ('fun', 'JJ'), ('end', 'NN'), ('-', ':'), ('hint', 'NN'), (':', ':'), ('look', 'NN'), ('shoe', 'SYM'), ('-', ':'), ('#', '#'), ('tedatibm', 'NN')]\n",
      "[('watch', 'NN'), ('incred', 'VBD'), ('@', 'JJ'), ('tedtalk', 'NN'), ('ibm', 'NN'), ('scientist', 'NN'), ('@', 'NNP'), ('bmibruno', 'NN'), ('titl', 'NN'), (\"'how\", 'POS'), ('brain', 'NN'), ('keep', 'NN'), ('#', '#'), ('ai', 'NN'), (\"'\", \"''\"), ('-', ':'), ('stay', 'NN'), ('tune', 'IN'), ('fun', 'JJ'), ('end', 'NN'), ('-', ':'), ('hint', 'NN'), (':', ':'), ('look', 'NN'), ('shoe', 'SYM'), ('-', ':'), ('#', '#'), ('tedatibm', 'NN')]\n",
      "[('watch', 'NN'), ('incred', 'VBD'), ('@', 'JJ'), ('tedtalk', 'NN'), ('ibm', 'NN'), ('scientist', 'NN'), ('@', 'NNP'), ('bmibruno', 'NN'), ('titl', 'NN'), (\"'how\", 'POS'), ('brain', 'NN'), ('keep', 'NN'), ('#', '#'), ('ai', 'NN'), (\"'\", \"''\"), ('-', ':'), ('stay', 'NN'), ('tune', 'IN'), ('fun', 'JJ'), ('end', 'NN'), ('-', ':'), ('hint', 'NN'), (':', ':'), ('look', 'NN'), ('shoe', 'SYM'), ('-', ':'), ('#', '#'), ('tedatibm', 'NN')]\n",
      "[('watch', 'NN'), ('incred', 'VBD'), ('@', 'JJ'), ('tedtalk', 'NN'), ('ibm', 'NN'), ('scientist', 'NN'), ('@', 'NNP'), ('bmibruno', 'NN'), ('titl', 'NN'), (\"'how\", 'POS'), ('brain', 'NN'), ('keep', 'NN'), ('#', '#'), ('ai', 'NN'), (\"'\", \"''\"), ('-', ':'), ('stay', 'NN'), ('tune', 'IN'), ('fun', 'JJ'), ('end', 'NN'), ('-', ':'), ('hint', 'NN'), (':', ':'), ('look', 'NN'), ('shoe', 'SYM'), ('-', ':'), ('#', '#'), ('tedatibm', 'NN')]\n",
      "[('watch', 'NN'), ('incred', 'VBD'), ('@', 'JJ'), ('tedtalk', 'NN'), ('ibm', 'NN'), ('scientist', 'NN'), ('@', 'NNP'), ('bmibruno', 'NN'), ('titl', 'NN'), (\"'how\", 'POS'), ('brain', 'NN'), ('keep', 'NN'), ('#', '#'), ('ai', 'NN'), (\"'\", \"''\"), ('-', ':'), ('stay', 'NN'), ('tune', 'IN'), ('fun', 'JJ'), ('end', 'NN'), ('-', ':'), ('hint', 'NN'), (':', ':'), ('look', 'NN'), ('shoe', 'SYM'), ('-', ':'), ('#', '#'), ('tedatibm', 'NN')]\n",
      "[('watch', 'NN'), ('incred', 'VBD'), ('@', 'JJ'), ('tedtalk', 'NN'), ('ibm', 'NN'), ('scientist', 'NN'), ('@', 'NNP'), ('bmibruno', 'NN'), ('titl', 'NN'), (\"'how\", 'POS'), ('brain', 'NN'), ('keep', 'NN'), ('#', '#'), ('ai', 'NN'), (\"'\", \"''\"), ('-', ':'), ('stay', 'NN'), ('tune', 'IN'), ('fun', 'JJ'), ('end', 'NN'), ('-', ':'), ('hint', 'NN'), (':', ':'), ('look', 'NN'), ('shoe', 'SYM'), ('-', ':'), ('#', '#'), ('tedatibm', 'NN')]\n",
      "[('watch', 'NN'), ('incred', 'VBD'), ('@', 'JJ'), ('tedtalk', 'NN'), ('ibm', 'NN'), ('scientist', 'NN'), ('@', 'NNP'), ('bmibruno', 'NN'), ('titl', 'NN'), (\"'how\", 'POS'), ('brain', 'NN'), ('keep', 'NN'), ('#', '#'), ('ai', 'NN'), (\"'\", \"''\"), ('-', ':'), ('stay', 'NN'), ('tune', 'IN'), ('fun', 'JJ'), ('end', 'NN'), ('-', ':'), ('hint', 'NN'), (':', ':'), ('look', 'NN'), ('shoe', 'SYM'), ('-', ':'), ('#', '#'), ('tedatibm', 'NN')]\n",
      "[('watch', 'NN'), ('incred', 'VBD'), ('@', 'JJ'), ('tedtalk', 'NN'), ('ibm', 'NN'), ('scientist', 'NN'), ('@', 'NNP'), ('bmibruno', 'NN'), ('titl', 'NN'), (\"'how\", 'POS'), ('brain', 'NN'), ('keep', 'NN'), ('#', '#'), ('ai', 'NN'), (\"'\", \"''\"), ('-', ':'), ('stay', 'NN'), ('tune', 'IN'), ('fun', 'JJ'), ('end', 'NN'), ('-', ':'), ('hint', 'NN'), (':', ':'), ('look', 'NN'), ('shoe', 'SYM'), ('-', ':'), ('#', '#'), ('tedatibm', 'NN')]\n",
      "[('watch', 'NN'), ('incred', 'VBD'), ('@', 'JJ'), ('tedtalk', 'NN'), ('ibm', 'NN'), ('scientist', 'NN'), ('@', 'NNP'), ('bmibruno', 'NN'), ('titl', 'NN'), (\"'how\", 'POS'), ('brain', 'NN'), ('keep', 'NN'), ('#', '#'), ('ai', 'NN'), (\"'\", \"''\"), ('-', ':'), ('stay', 'NN'), ('tune', 'IN'), ('fun', 'JJ'), ('end', 'NN'), ('-', ':'), ('hint', 'NN'), (':', ':'), ('look', 'NN'), ('shoe', 'SYM'), ('-', ':'), ('#', '#'), ('tedatibm', 'NN')]\n",
      "[('watch', 'NN'), ('incred', 'VBD'), ('@', 'JJ'), ('tedtalk', 'NN'), ('ibm', 'NN'), ('scientist', 'NN'), ('@', 'NNP'), ('bmibruno', 'NN'), ('titl', 'NN'), (\"'how\", 'POS'), ('brain', 'NN'), ('keep', 'NN'), ('#', '#'), ('ai', 'NN'), (\"'\", \"''\"), ('-', ':'), ('stay', 'NN'), ('tune', 'IN'), ('fun', 'JJ'), ('end', 'NN'), ('-', ':'), ('hint', 'NN'), (':', ':'), ('look', 'NN'), ('shoe', 'SYM'), ('-', ':'), ('#', '#'), ('tedatibm', 'NN')]\n",
      "[('watch', 'NN'), ('incred', 'VBD'), ('@', 'JJ'), ('tedtalk', 'NN'), ('ibm', 'NN'), ('scientist', 'NN'), ('@', 'NNP'), ('bmibruno', 'NN'), ('titl', 'NN'), (\"'how\", 'POS'), ('brain', 'NN'), ('keep', 'NN'), ('#', '#'), ('ai', 'NN'), (\"'\", \"''\"), ('-', ':'), ('stay', 'NN'), ('tune', 'IN'), ('fun', 'JJ'), ('end', 'NN'), ('-', ':'), ('hint', 'NN'), (':', ':'), ('look', 'NN'), ('shoe', 'SYM'), ('-', ':'), ('#', '#'), ('tedatibm', 'NN')]\n",
      "[('watch', 'NN'), ('incred', 'VBD'), ('@', 'JJ'), ('tedtalk', 'NN'), ('ibm', 'NN'), ('scientist', 'NN'), ('@', 'NNP'), ('bmibruno', 'NN'), ('titl', 'NN'), (\"'how\", 'POS'), ('brain', 'NN'), ('keep', 'NN'), ('#', '#'), ('ai', 'NN'), (\"'\", \"''\"), ('-', ':'), ('stay', 'NN'), ('tune', 'IN'), ('fun', 'JJ'), ('end', 'NN'), ('-', ':'), ('hint', 'NN'), (':', ':'), ('look', 'NN'), ('shoe', 'SYM'), ('-', ':'), ('#', '#'), ('tedatibm', 'NN')]\n",
      "[('watch', 'NN'), ('incred', 'VBD'), ('@', 'JJ'), ('tedtalk', 'NN'), ('ibm', 'NN'), ('scientist', 'NN'), ('@', 'NNP'), ('bmibruno', 'NN'), ('titl', 'NN'), (\"'how\", 'POS'), ('brain', 'NN'), ('keep', 'NN'), ('#', '#'), ('ai', 'NN'), (\"'\", \"''\"), ('-', ':'), ('stay', 'NN'), ('tune', 'IN'), ('fun', 'JJ'), ('end', 'NN'), ('-', ':'), ('hint', 'NN'), (':', ':'), ('look', 'NN'), ('shoe', 'SYM'), ('-', ':'), ('#', '#'), ('tedatibm', 'NN')]\n",
      "[('watch', 'NN'), ('incred', 'VBD'), ('@', 'JJ'), ('tedtalk', 'NN'), ('ibm', 'NN'), ('scientist', 'NN'), ('@', 'NNP'), ('bmibruno', 'NN'), ('titl', 'NN'), (\"'how\", 'POS'), ('brain', 'NN'), ('keep', 'NN'), ('#', '#'), ('ai', 'NN'), (\"'\", \"''\"), ('-', ':'), ('stay', 'NN'), ('tune', 'IN'), ('fun', 'JJ'), ('end', 'NN'), ('-', ':'), ('hint', 'NN'), (':', ':'), ('look', 'NN'), ('shoe', 'SYM'), ('-', ':'), ('#', '#'), ('tedatibm', 'NN')]\n",
      "[('watch', 'NN'), ('incred', 'VBD'), ('@', 'JJ'), ('tedtalk', 'NN'), ('ibm', 'NN'), ('scientist', 'NN'), ('@', 'NNP'), ('bmibruno', 'NN'), ('titl', 'NN'), (\"'how\", 'POS'), ('brain', 'NN'), ('keep', 'NN'), ('#', '#'), ('ai', 'NN'), (\"'\", \"''\"), ('-', ':'), ('stay', 'NN'), ('tune', 'IN'), ('fun', 'JJ'), ('end', 'NN'), ('-', ':'), ('hint', 'NN'), (':', ':'), ('look', 'NN'), ('shoe', 'SYM'), ('-', ':'), ('#', '#'), ('tedatibm', 'NN')]\n",
      "[('watch', 'NN'), ('incred', 'VBD'), ('@', 'JJ'), ('tedtalk', 'NN'), ('ibm', 'NN'), ('scientist', 'NN'), ('@', 'NNP'), ('bmibruno', 'NN'), ('titl', 'NN'), (\"'how\", 'POS'), ('brain', 'NN'), ('keep', 'NN'), ('#', '#'), ('ai', 'NN'), (\"'\", \"''\"), ('-', ':'), ('stay', 'NN'), ('tune', 'IN'), ('fun', 'JJ'), ('end', 'NN'), ('-', ':'), ('hint', 'NN'), (':', ':'), ('look', 'NN'), ('shoe', 'SYM'), ('-', ':'), ('#', '#'), ('tedatibm', 'NN')]\n",
      "[('watch', 'NN'), ('incred', 'VBD'), ('@', 'JJ'), ('tedtalk', 'NN'), ('ibm', 'NN'), ('scientist', 'NN'), ('@', 'NNP'), ('bmibruno', 'NN'), ('titl', 'NN'), (\"'how\", 'POS'), ('brain', 'NN'), ('keep', 'NN'), ('#', '#'), ('ai', 'NN'), (\"'\", \"''\"), ('-', ':'), ('stay', 'NN'), ('tune', 'IN'), ('fun', 'JJ'), ('end', 'NN'), ('-', ':'), ('hint', 'NN'), (':', ':'), ('look', 'NN'), ('shoe', 'SYM'), ('-', ':'), ('#', '#'), ('tedatibm', 'NN')]\n",
      "[('watch', 'NN'), ('incred', 'VBD'), ('@', 'JJ'), ('tedtalk', 'NN'), ('ibm', 'NN'), ('scientist', 'NN'), ('@', 'NNP'), ('bmibruno', 'NN'), ('titl', 'NN'), (\"'how\", 'POS'), ('brain', 'NN'), ('keep', 'NN'), ('#', '#'), ('ai', 'NN'), (\"'\", \"''\"), ('-', ':'), ('stay', 'NN'), ('tune', 'IN'), ('fun', 'JJ'), ('end', 'NN'), ('-', ':'), ('hint', 'NN'), (':', ':'), ('look', 'NN'), ('shoe', 'SYM'), ('-', ':'), ('#', '#'), ('tedatibm', 'NN')]\n",
      "[('watch', 'NN'), ('incred', 'VBD'), ('@', 'JJ'), ('tedtalk', 'NN'), ('ibm', 'NN'), ('scientist', 'NN'), ('@', 'NNP'), ('bmibruno', 'NN'), ('titl', 'NN'), (\"'how\", 'POS'), ('brain', 'NN'), ('keep', 'NN'), ('#', '#'), ('ai', 'NN'), (\"'\", \"''\"), ('-', ':'), ('stay', 'NN'), ('tune', 'IN'), ('fun', 'JJ'), ('end', 'NN'), ('-', ':'), ('hint', 'NN'), (':', ':'), ('look', 'NN'), ('shoe', 'SYM'), ('-', ':'), ('#', '#'), ('tedatibm', 'NN')]\n",
      "[('watch', 'NN'), ('incred', 'VBD'), ('@', 'JJ'), ('tedtalk', 'NN'), ('ibm', 'NN'), ('scientist', 'NN'), ('@', 'NNP'), ('bmibruno', 'NN'), ('titl', 'NN'), (\"'how\", 'POS'), ('brain', 'NN'), ('keep', 'NN'), ('#', '#'), ('ai', 'NN'), (\"'\", \"''\"), ('-', ':'), ('stay', 'NN'), ('tune', 'IN'), ('fun', 'JJ'), ('end', 'NN'), ('-', ':'), ('hint', 'NN'), (':', ':'), ('look', 'NN'), ('shoe', 'SYM'), ('-', ':'), ('#', '#'), ('tedatibm', 'NN')]\n",
      "[('watch', 'NN'), ('incred', 'VBD'), ('@', 'JJ'), ('tedtalk', 'NN'), ('ibm', 'NN'), ('scientist', 'NN'), ('@', 'NNP'), ('bmibruno', 'NN'), ('titl', 'NN'), (\"'how\", 'POS'), ('brain', 'NN'), ('keep', 'NN'), ('#', '#'), ('ai', 'NN'), (\"'\", \"''\"), ('-', ':'), ('stay', 'NN'), ('tune', 'IN'), ('fun', 'JJ'), ('end', 'NN'), ('-', ':'), ('hint', 'NN'), (':', ':'), ('look', 'NN'), ('shoe', 'SYM'), ('-', ':'), ('#', '#'), ('tedatibm', 'NN')]\n",
      "[('watch', 'NN'), ('incred', 'VBD'), ('@', 'JJ'), ('tedtalk', 'NN'), ('ibm', 'NN'), ('scientist', 'NN'), ('@', 'NNP'), ('bmibruno', 'NN'), ('titl', 'NN'), (\"'how\", 'POS'), ('brain', 'NN'), ('keep', 'NN'), ('#', '#'), ('ai', 'NN'), (\"'\", \"''\"), ('-', ':'), ('stay', 'NN'), ('tune', 'IN'), ('fun', 'JJ'), ('end', 'NN'), ('-', ':'), ('hint', 'NN'), (':', ':'), ('look', 'NN'), ('shoe', 'SYM'), ('-', ':'), ('#', '#'), ('tedatibm', 'NN')]\n"
     ]
    }
   ],
   "source": [
    "for document in col.find():\n",
    "    if 'text' in document.keys():\n",
    "        final_res = preprocess(document['text'])\n",
    "        print(final_res)"
   ]
  },
  {
   "cell_type": "code",
   "execution_count": 94,
   "id": "b347160f-4788-4edf-8c82-86a109f01287",
   "metadata": {},
   "outputs": [
    {
     "ename": "KeyError",
     "evalue": "'text'",
     "output_type": "error",
     "traceback": [
      "\u001b[1;31m---------------------------------------------------------------------------\u001b[0m",
      "\u001b[1;31mKeyError\u001b[0m                                  Traceback (most recent call last)",
      "Cell \u001b[1;32mIn[94], line 3\u001b[0m\n\u001b[0;32m      1\u001b[0m \u001b[38;5;28;01mwith\u001b[39;00m \u001b[38;5;28mopen\u001b[39m(\u001b[38;5;124m\"\u001b[39m\u001b[38;5;124mres.txt\u001b[39m\u001b[38;5;124m\"\u001b[39m, \u001b[38;5;124m\"\u001b[39m\u001b[38;5;124mw\u001b[39m\u001b[38;5;124m\"\u001b[39m) \u001b[38;5;28;01mas\u001b[39;00m f:\n\u001b[0;32m      2\u001b[0m     \u001b[38;5;28;01mfor\u001b[39;00m document \u001b[38;5;129;01min\u001b[39;00m col\u001b[38;5;241m.\u001b[39mfind():\n\u001b[1;32m----> 3\u001b[0m         final_res \u001b[38;5;241m=\u001b[39m preprocess(\u001b[43mdoc\u001b[49m\u001b[43m[\u001b[49m\u001b[38;5;124;43m'\u001b[39;49m\u001b[38;5;124;43mtext\u001b[39;49m\u001b[38;5;124;43m'\u001b[39;49m\u001b[43m]\u001b[49m)\n\u001b[0;32m      4\u001b[0m         \u001b[38;5;66;03m# transform into scv format\u001b[39;00m\n\u001b[0;32m      5\u001b[0m         csv \u001b[38;5;241m=\u001b[39m \u001b[38;5;124m\"\u001b[39m\u001b[38;5;124m\"\u001b[39m\n",
      "\u001b[1;31mKeyError\u001b[0m: 'text'"
     ]
    }
   ],
   "source": [
    "with open(\"res.txt\", \"w\") as f:\n",
    "    for document in col.find():\n",
    "        final_res = preprocess(doc['text'])\n",
    "        # transform into scv format\n",
    "        csv = \"\"\n",
    "        for word_category in final_res:\n",
    "            csv = csv + word_category[0] + \",\" + word_category[1] + '\\n'\n",
    "        f.write(csv)\n",
    "        col.update_one({\"user.id\": doc[\"user\"][\"id\"]}, {\"$set\": {\"keyword\": csv}})"
   ]
  },
  {
   "cell_type": "code",
   "execution_count": 88,
   "id": "390e8877-d636-4d1f-86a8-d60abcd68f96",
   "metadata": {},
   "outputs": [],
   "source": [
    "with open(\"res.txt\", \"w\") as f:\n",
    "    for document in col.find():\n",
    "        if 'text' in document:\n",
    "            final_res = preprocess(document['text'])\n",
    "            # Convert each tuple to a string and join them with spaces\n",
    "            formatted_res = [\"{}/{}\".format(word, tag) for word, tag in final_res]\n",
    "            f.write(\" \".join(formatted_res) + \"\\n\")\n",
    "        else:\n",
    "            f.write(\"Key 'text' not found in document\\n\")"
   ]
  },
  {
   "cell_type": "code",
   "execution_count": 90,
   "id": "aa5aab38-7e77-46b4-97a7-673f44a180cd",
   "metadata": {},
   "outputs": [
    {
     "data": {
      "text/plain": [
       "['watch/NN',\n",
       " 'incred/VBD',\n",
       " '@/JJ',\n",
       " 'tedtalk/NN',\n",
       " 'ibm/NN',\n",
       " 'scientist/NN',\n",
       " '@/NNP',\n",
       " 'bmibruno/NN',\n",
       " 'titl/NN',\n",
       " \"'how/POS\",\n",
       " 'brain/NN',\n",
       " 'keep/NN',\n",
       " '#/#',\n",
       " 'ai/NN',\n",
       " \"'/''\",\n",
       " '-/:',\n",
       " 'stay/NN',\n",
       " 'tune/IN',\n",
       " 'fun/JJ',\n",
       " 'end/NN',\n",
       " '-/:',\n",
       " 'hint/NN',\n",
       " ':/:',\n",
       " 'look/NN',\n",
       " 'shoe/SYM',\n",
       " '-/:',\n",
       " '#/#',\n",
       " 'tedatibm/NN']"
      ]
     },
     "execution_count": 90,
     "metadata": {},
     "output_type": "execute_result"
    }
   ],
   "source": [
    "formatted_res"
   ]
  },
  {
   "cell_type": "code",
   "execution_count": null,
   "id": "3e7ef1de-c5cb-4908-a6f4-840a135ba9d5",
   "metadata": {},
   "outputs": [],
   "source": []
  }
 ],
 "metadata": {
  "kernelspec": {
   "display_name": "Python 3 (ipykernel)",
   "language": "python",
   "name": "python3"
  },
  "language_info": {
   "codemirror_mode": {
    "name": "ipython",
    "version": 3
   },
   "file_extension": ".py",
   "mimetype": "text/x-python",
   "name": "python",
   "nbconvert_exporter": "python",
   "pygments_lexer": "ipython3",
   "version": "3.12.4"
  }
 },
 "nbformat": 4,
 "nbformat_minor": 5
}
