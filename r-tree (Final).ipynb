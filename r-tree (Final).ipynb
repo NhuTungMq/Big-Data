{
 "cells": [
  {
   "cell_type": "code",
   "execution_count": null,
   "id": "e6b6bd20-8e4e-457c-ab6c-c093eb12e9ea",
   "metadata": {},
   "outputs": [],
   "source": [
    "#How to build r-tree more effricen (maybe need to test it) Final"
   ]
  },
  {
   "cell_type": "code",
   "execution_count": 52,
   "id": "20235cc4-df7d-4267-956a-813c392a8bcd",
   "metadata": {},
   "outputs": [],
   "source": [
    "#Universal ?\n",
    "class TreeNode:\n",
    "    def __init__(self, data):\n",
    "        self.data = data\n",
    "        self.left = None\n",
    "        self.right = None\n",
    "\n",
    "    def insert(self, data):\n",
    "        if self.data < data:\n",
    "            if self.right is None:\n",
    "                self.right = TreeNode(data)\n",
    "            else:\n",
    "                self.right.insert(data)\n",
    "        else:\n",
    "            if self.left is None:  # Corrected to check self.left\n",
    "                self.left = TreeNode(data)\n",
    "            else:\n",
    "                self.left.insert(data)  # Corrected to insert into the left subtree\n",
    "\n",
    "    def print_tree(self):\n",
    "        if self.left is not None:\n",
    "            self.left.print_tree()\n",
    "        \n",
    "        print(self.data)  # Print node's data only once\n",
    "        \n",
    "        if self.right is not None:\n",
    "            self.right.print_tree()"
   ]
  },
  {
   "cell_type": "code",
   "execution_count": 48,
   "id": "57327517-0476-4421-b417-888b54480749",
   "metadata": {},
   "outputs": [],
   "source": [
    "rootnode = TreeNode(10)\n",
    "nums = [1, 5, 9, 17, 19 ,21]\n",
    "for num in nums:\n",
    "    rootnode.insert(num)"
   ]
  },
  {
   "cell_type": "code",
   "execution_count": 50,
   "id": "6f6d5b1e-0f4b-476d-a564-f538b85edc98",
   "metadata": {},
   "outputs": [
    {
     "name": "stdout",
     "output_type": "stream",
     "text": [
      "1\n",
      "5\n",
      "9\n",
      "10\n",
      "17\n",
      "19\n",
      "21\n"
     ]
    }
   ],
   "source": [
    "rootnode.print_tree()"
   ]
  },
  {
   "cell_type": "code",
   "execution_count": 14,
   "id": "e2fd28aa-a7c7-4761-9478-daf1b2e94e69",
   "metadata": {},
   "outputs": [],
   "source": [
    "rootnode.right = node2\n",
    "rootnode.left = node1"
   ]
  },
  {
   "cell_type": "code",
   "execution_count": null,
   "id": "116d4e8b-0875-4217-aaf7-98c99d55a3e7",
   "metadata": {},
   "outputs": [],
   "source": [
    "#Pre-order\n",
    "class TreeNode:\n",
    "    def __init__(self, data):\n",
    "        self.data = data\n",
    "        self.left = None\n",
    "        self.right = None\n",
    "\n",
    "    def insert(self, data):\n",
    "        if self.data < data:\n",
    "            if self.right is None:\n",
    "                self.right = TreeNode(data)\n",
    "            else:\n",
    "                self.right.insert(data)\n",
    "        else:\n",
    "            if self.left is None:  # Corrected to check self.left\n",
    "                self.left = TreeNode(data)\n",
    "            else:\n",
    "                self.left.insert(data)  # Corrected to insert into the left subtree\n",
    "\n",
    "    def print_tree(self):\n",
    "        print(self.data)\n",
    "        \n",
    "        if self.left is not None:\n",
    "            self.left.print_tree()\n",
    "        \n",
    "          # Print node's data only once\n",
    "        \n",
    "        if self.right is not None:\n",
    "            self.right.print_tree()"
   ]
  },
  {
   "cell_type": "code",
   "execution_count": null,
   "id": "6363eb8d-eb3f-4740-81eb-9f079b00755e",
   "metadata": {},
   "outputs": [],
   "source": [
    "#Post-order\n",
    "class TreeNode:\n",
    "    def __init__(self, data):\n",
    "        self.data = data\n",
    "        self.left = None\n",
    "        self.right = None\n",
    "\n",
    "    def insert(self, data):\n",
    "        if self.data < data:\n",
    "            if self.right is None:\n",
    "                self.right = TreeNode(data)\n",
    "            else:\n",
    "                self.right.insert(data)\n",
    "        else:\n",
    "            if self.left is None:  # Corrected to check self.left\n",
    "                self.left = TreeNode(data)\n",
    "            else:\n",
    "                self.left.insert(data)  # Corrected to insert into the left subtree\n",
    "\n",
    "    def print_tree(self):\n",
    "        \n",
    "        \n",
    "        if self.left is not None:\n",
    "            self.left.print_tree()\n",
    "        \n",
    "          # Print node's data only once\n",
    "        \n",
    "        if self.right is not None:\n",
    "            self.right.print_tree()\n",
    "\n",
    "        print(self.data)"
   ]
  }
 ],
 "metadata": {
  "kernelspec": {
   "display_name": "Python 3 (ipykernel)",
   "language": "python",
   "name": "python3"
  },
  "language_info": {
   "codemirror_mode": {
    "name": "ipython",
    "version": 3
   },
   "file_extension": ".py",
   "mimetype": "text/x-python",
   "name": "python",
   "nbconvert_exporter": "python",
   "pygments_lexer": "ipython3",
   "version": "3.12.4"
  }
 },
 "nbformat": 4,
 "nbformat_minor": 5
}
